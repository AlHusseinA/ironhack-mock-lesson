{
 "cells": [
  {
   "cell_type": "markdown",
   "id": "b84b37d1-322e-4a32-8a6b-a6b7f631fb11",
   "metadata": {},
   "source": [
    "# Building products with OpenAI\n",
    "\n",
    "### Building an mvp for a text website summariser\n",
    "\n",
    "\n",
    "Note: The code here is from  [Ed Donner's](https://github.com/ed-donner/llm_engineering/tree/main/week1) and modified further by myself.\n",
    "\n",
    "A significant portion of the boilerplate code below is also taken from [openAI text generation docs](https://platform.openai.com/docs/guides/text-generation) which I highly recommend. \n"
   ]
  },
  {
   "cell_type": "markdown",
   "id": "0a3a22dd-08ed-4a58-b85e-7728759f242c",
   "metadata": {},
   "source": [
    "## First step: Building our virtual environment\n",
    "\n",
    "This will make sure that all the foundational code that we don't see but that our code absolutely needs is accessible to our code. There are two files that contain lists of the required libraries that you will need to install.\n",
    "\n",
    "There are two ways to do this. Please follow the instructions laid out by Ed; they're quite straightforward with alternative routes if this didn't work:\n",
    "\n",
    "1. [MacOS](https://github.com/ed-donner/llm_engineering/blob/main/SETUP-mac.md)  \n",
    "2. [Windows PC](https://github.com/ed-donner/llm_engineering/blob/main/SETUP-PC.md)\n",
    "\n",
    "If this was done correctly, the cell below (with import statements) should not produce any errors. "
   ]
  },
  {
   "cell_type": "code",
   "execution_count": 63,
   "id": "60520b8a-7d9d-4f32-8e8c-163a9cfbad8f",
   "metadata": {},
   "outputs": [],
   "source": [
    "import os\n",
    "import requests\n",
    "from dotenv import load_dotenv\n",
    "from bs4 import BeautifulSoup\n",
    "from IPython.display import Markdown, display\n",
    "from openai import OpenAI"
   ]
  },
  {
   "cell_type": "markdown",
   "id": "5457d32b-944a-4ffb-9476-fedb4ed00fa2",
   "metadata": {},
   "source": [
    "## Second step: Connect to OpenAI's api\n",
    "1. Go to platform.openai.com and create an account\n",
    "2. Go to https://platform.openai.com/api-keys and create an api_key. Make sure to copy it into a notepad\n",
    "3. Go to https://platform.openai.com/settings/organization/billing/overview and charge your account with the minimum amount $5\n",
    "4. On your machine launch the terminal (type cmd in start menue or cmd+space then type terminal)\n",
    "5. Type nano .env. It must be '.env' exactly!\n",
    "6. This will launch a text editor in your terminal. Type 'OPENAI_API_KEY=' then paste the api key. Make sure there's no space between the '=' and the key\n",
    "7. Save the file by pressing ^+ o. Hit enter to save the file.\n",
    "8. ^ + x to leave nano and go back to the terminal\n",
    "9. Confirm by going to the directory where you saved the .env. Launch the terminal, type 'cat ls' you should see the feel (typing only 'ls' would 'list' the visible files and folders only)"
   ]
  },
  {
   "cell_type": "code",
   "execution_count": 64,
   "id": "19e17b31-fb3a-4885-8ca5-7955825ff049",
   "metadata": {},
   "outputs": [
    {
     "name": "stdout",
     "output_type": "stream",
     "text": [
      "API key found and looks good so far!\n"
     ]
    }
   ],
   "source": [
    "\n",
    "load_dotenv()\n",
    "api_key = os.getenv('OPENAI_API_KEY') # this will get the key we stored in .env\n",
    "\n",
    "# Check the key\n",
    "\n",
    "if not api_key:\n",
    "    print(\"No API key was found, please double check the '.env' file\")\n",
    "    \n",
    "elif not api_key.startswith(\"sk-proj-\"): #openai api keys always start with sk-proj-\n",
    "    print(\"An API key was found, but it doesn't start sk-proj-; please check you're using the right key\")\n",
    "    \n",
    "elif api_key.strip() != api_key:\n",
    "    print(\"An API key was found, but it looks like it might have space or tab characters at the start or end - please remove them - Your OS may have modified the text string when you copied and paste! It happens!\")\n",
    "    \n",
    "else:\n",
    "    print(\"API key found and looks good so far!\")\n"
   ]
  },
  {
   "cell_type": "code",
   "execution_count": 65,
   "id": "01e965c5-e0fe-4b32-b9c8-0246af9e9cdc",
   "metadata": {},
   "outputs": [],
   "source": [
    "openai = OpenAI()\n",
    "\n",
    "# If the above doesn't work, restart the kernel (from the menue of jupyter lab), and re run the cells. Or sub with: \n",
    "# If the above doesn't work, restart the kernel (from the menue of jupyter lab), and re run the cells. Or sub with: "
   ]
  },
  {
   "cell_type": "markdown",
   "id": "d1d1d920-4c9d-4c5e-9536-a5b5638d83e6",
   "metadata": {},
   "source": [
    "## Third step: Getting to know OpenAI's api protocols\n"
   ]
  },
  {
   "cell_type": "markdown",
   "id": "ab1fcc55-62dd-491f-b6f7-ea4b15c23877",
   "metadata": {},
   "source": [
    "### We're now at the gate of the castle. We've passed the initial checks, we definitely belong. We can now interact directly with the model we wish to use. However, we can't take the model out of the castle (openAI) as this is a closed source model"
   ]
  },
  {
   "cell_type": "code",
   "execution_count": 66,
   "id": "cd7ae40d-42e6-469a-bcd2-6d3e3a6d9c98",
   "metadata": {},
   "outputs": [
    {
     "name": "stdout",
     "output_type": "stream",
     "text": [
      "Greetings, noble traveler from a distant realm! Fear not, for I shall assist you in your quest for sweet delights. Though I may not possess physical candies, I can guide you in your search or share tales of delectable treats from many lands. What kind of candy does your heart desire? Chocolates, gummies, or perhaps something more exotic?\n"
     ]
    }
   ],
   "source": [
    "message = \"<play along> Hello, there! I stand before you as a humble messenger from a kingdom faraway! I need help! I have been looking for candy for days! Have you got any!?\"\n",
    "\n",
    "response = openai.chat.completions.create(model=\"gpt-4o-mini\", messages=[{\"role\":\"user\", \"content\":message}]) # witll save the answer in response given the question stored in message from us the 'user'\n",
    "print(response.choices[0].message.content)"
   ]
  },
  {
   "cell_type": "markdown",
   "id": "f4c6b5ee-4ca3-4b03-9254-9c67ef9eb054",
   "metadata": {},
   "source": [
    "## It's aliiiive! \n",
    "\n",
    "### Now, let's build our mvp! \n",
    "\n",
    "\n",
    "The code below:\n",
    "1. The code defines a `Website` class that uses the `requests` library to fetch the HTML content of a webpage and the `BeautifulSoup` library to parse it.  \n",
    "2. A custom `headers` dictionary is used to mimic a legitimate browser request, ensuring compatibility with most websites.  \n",
    "3. The class processes the webpage to extract the title and clean textual content, removing irrelevant elements like scripts, styles, images, and inputs.  \n"
   ]
  },
  {
   "cell_type": "code",
   "execution_count": 67,
   "id": "8417be4d-e059-4c39-bbff-ade7c809edbc",
   "metadata": {},
   "outputs": [],
   "source": [
    "# If you're not familiar with Classes, check out the this  tutorial (33 mins tutorial, you only need to know the basic idea, no need to watch the entire video): https://www.youtube.com/watch?v=tmY6FEF8f1o\n",
    "\n",
    "# Some websites need you to use proper headers when fetching them:\n",
    "\n",
    "# Some websites need you to use proper headers when fetching them:\n",
    "headers = {\n",
    "    # \"User-Agent\" is a key in the headers dictionary that specifies the browser and system making the request.\n",
    "    # Websites often check this to ensure that the request comes from a legitimate source (e.g., a browser).\n",
    "    # By mimicking a browser (like Chrome in this case), we prevent the website from blocking or restricting our request.\n",
    "    \"User-Agent\": \"Mozilla/5.0 (Windows NT 10.0; Win64; x64) AppleWebKit/537.36 (KHTML, like Gecko) Chrome/117.0.0.0 Safari/537.36\"\n",
    "}\n",
    "class Website:\n",
    "\n",
    "    def __init__(self, url):\n",
    "        \"\"\"\n",
    "        Create this Website object from the given url using the BeautifulSoup library\n",
    "        \"\"\"\n",
    "        self.url = url\n",
    "        # Sending the request with the headers ensures that the website treats it as a legitimate browser request.\n",
    "\n",
    "        response = requests.get(url, headers=headers)\n",
    "        soup = BeautifulSoup(response.content, 'html.parser')\n",
    "        self.title = soup.title.string if soup.title else \"No title found\"\n",
    "        for irrelevant in soup.body([\"script\", \"style\", \"img\", \"input\"]):\n",
    "            irrelevant.decompose()\n",
    "        self.text = soup.body.get_text(separator=\"\\n\", strip=True)\n",
    "        "
   ]
  },
  {
   "cell_type": "markdown",
   "id": "b9dbae39-73e3-40a8-95e0-2123cbb0e2e1",
   "metadata": {},
   "source": [
    "### Let's test it out!\n",
    "I chose the bbc/news website (recommended by therapist) but feel free to modfiy this\n"
   ]
  },
  {
   "cell_type": "code",
   "execution_count": 68,
   "id": "4da419bc-efde-4d0b-baaa-2f98b0b3ebd2",
   "metadata": {},
   "outputs": [
    {
     "name": "stdout",
     "output_type": "stream",
     "text": [
      "Home - BBC News\n",
      "#################\n",
      "BBC Homepage\n",
      "Skip to content\n",
      "Accessibility Help\n",
      "Your account\n",
      "Notifications\n",
      "Home\n",
      "News\n",
      "Sport\n",
      "Weather\n",
      "iPlayer\n",
      "Sounds\n",
      "Bitesize\n",
      "CBBC\n",
      "CBeebies\n",
      "Food\n",
      "More menu\n",
      "More menu\n",
      "Search BBC\n",
      "Home\n",
      "News\n"
     ]
    }
   ],
   "source": [
    "bbc = Website(\"https://www.bbc.co.uk/news\")\n",
    "print(bbc.title)\n",
    "print(\"#################\")\n",
    "# Truncate the text to 20 lines otherwise the printout will be huge!\n",
    "truncated_text = \"\\n\".join(bbc.text.splitlines()[:20])\n",
    "print(truncated_text)"
   ]
  },
  {
   "cell_type": "markdown",
   "id": "043c63d2-5aee-4932-a275-f40a0dd3ef5a",
   "metadata": {},
   "source": [
    "### A word about prompts!\n",
    "\n",
    "Generally speaking, with GenAI there are two types of prompts:\n",
    "1. System prompts: This tells the generic AI model to morph itself and prepare to transform into < insert desired role >. For example, GPT4o-mini is a foundation LLM that can do many things. However, here we're only interested in it's role being a text summariser.\n",
    "\n",
    "2. User prompt: This is what the user specifically wants from the model. For example, your 'user prompt' could be a book that you would like the llm to summarise.\n",
    "\n",
    "In both cases, small changes to syntax, order of words, or formulation of the text may lead to significant improvement (or deterioration) in performance. There's an entire field now called Prompt Engineering. For extra reading look into:\n",
    "1. [Anthropic Prompt Engineering Overview](https://docs.anthropic.com/en/docs/build-with-claude/prompt-engineering/overview)\n",
    "2. [OpenAI Prompt Engineering Guide](https://platform.openai.com/docs/guides/prompt-engineering)\n",
    "3. [AssemblyAI's crash course - 14 mins](https://www.youtube.com/watch?v=aOm75o2Z5-o)\n",
    "\n"
   ]
  },
  {
   "cell_type": "code",
   "execution_count": 69,
   "id": "1790a3c0-1407-45f3-8aa7-8aaa0711808a",
   "metadata": {},
   "outputs": [],
   "source": [
    "# Let's define our system prompt - you can experiment with this later, changing the last sentence to 'Respond in markdown in Spanish.\"\n",
    "\n",
    "system_prompt = \"You are an assistant that analyzes the contents of a website \\\n",
    "and provides a short summary, ignoring text that might be navigation related. \\\n",
    "Respond in markdown.\""
   ]
  },
  {
   "cell_type": "code",
   "execution_count": 70,
   "id": "76626571-5dc1-478b-90b7-0d490e3e6e58",
   "metadata": {},
   "outputs": [],
   "source": [
    "# A function that writes a User Prompt that asks for summaries of websites:\n",
    "# For an overview what Python functions are: https://www.youtube.com/watch?v=zvzjaqMBEso\n",
    "\n",
    "\n",
    "\n",
    "def user_prompt_for(website):\n",
    "    # Creates a string that introduces the title of the website.\n",
    "    # This helps contextualize the content for the user or downstream applications if this mvp is going to part of a larger pipeline.\n",
    "    user_prompt = f\"You are looking at a website titled {website.title}\" #user_prompt1\n",
    "    \n",
    "    # Adds a description of what to do with the website content.\n",
    "    # The instructions are formatted to be clear and precise, asking for a markdown summary. It will become evident later below why we asked for the response to be in markdown\n",
    "    # The \"\\n\" ensures the instructions are on a new line, improving readability in the final prompt. '\\n' is computer speak for 'new line'\n",
    "    user_prompt += \"\\nThe contents of this website is as follows; \\\n",
    "please provide a short summary of this website in markdown. \\\n",
    "If it includes news or announcements, then summarize these too.\\n\\n\" # user_prompt2\n",
    "    \n",
    "    # Append the full text content of the website to the prompt.\n",
    "    # This gives the user or downstream system the data needed to create the summary.\n",
    "\n",
    "    user_prompt += website.text\n",
    "    \n",
    "    # so now the GPT4o-mini will receive, via the api, <user_prompt1> + <user_prompt2> + <user_prompt3>\n",
    "\n",
    "    # Return the complete prompt string to main.\n",
    "    # The final prompt combines context, instructions, and website content for further use.\n",
    "    return user_prompt\n",
    "\n",
    "\n",
    "    "
   ]
  },
  {
   "cell_type": "markdown",
   "id": "474650c4-60e5-42b2-8153-4043867ec804",
   "metadata": {},
   "source": [
    "### let's check if this was done correctly (truncated to 20 lines):"
   ]
  },
  {
   "cell_type": "code",
   "execution_count": 71,
   "id": "fc2343d3-6273-4725-ae59-d7542dabfaa2",
   "metadata": {},
   "outputs": [
    {
     "name": "stdout",
     "output_type": "stream",
     "text": [
      "You are looking at a website titled Home - BBC News\n",
      "The contents of this website is as follows; please provide a short summary of this website in markdown. If it includes news or announcements, then summarize these too.\n",
      "\n",
      "BBC Homepage\n",
      "Skip to content\n",
      "Accessibility Help\n",
      "Your account\n",
      "Notifications\n",
      "Home\n",
      "News\n",
      "Sport\n",
      "Weather\n",
      "iPlayer\n",
      "Sounds\n",
      "Bitesize\n",
      "CBBC\n",
      "CBeebies\n",
      "Food\n",
      "More menu\n",
      "More menu\n"
     ]
    }
   ],
   "source": [
    "# Generate the user prompt\n",
    "full_prompt = user_prompt_for(bbc)\n",
    "\n",
    "# Truncate the prompt to only the first 20 lines\n",
    "truncated_prompt = \"\\n\".join(full_prompt.splitlines()[:20])\n",
    "print(truncated_prompt)"
   ]
  },
  {
   "cell_type": "markdown",
   "id": "f8b3d699-fd12-4f37-bd54-4649204aa863",
   "metadata": {},
   "source": [
    "## Format of messages when communicating with OpenAI's api \n",
    "\n",
    "The API from OpenAI expects to receive messages in a particular structure.\n",
    "Many of the other APIs share this structure:\n",
    "\n",
    "```\n",
    "[\n",
    "    {\"role\": \"system\", \"content\": \"system message goes here\"},\n",
    "    {\"role\": \"user\", \"content\": \"user message goes here\"}\n",
    "]\n",
    "\n",
    "To give you a preview, the next 2 cells make a rather simple call - we won't stretch the might GPT (yet!)"
   ]
  },
  {
   "cell_type": "markdown",
   "id": "25848ec5-4dcf-40cb-a031-b517ae280b90",
   "metadata": {},
   "source": [
    "## Format of messages when communicating with OpenAI's API\n",
    "\n",
    "When interacting with OpenAI’s models, you must provide the conversation in a specific structured format. This format clarifies each message’s role and makes the conversation context explicit. Many other language model APIs follow a similar pattern:\n",
    "\n",
    "\n",
    "\n",
    "- **system messages (these are the system prompts discussed abvoe)** are used to set the overall context, behavior, and guidelines for the model.\n",
    "- **user messages (these are the user prompts discussed above)** represent the instructions or queries from the user.\n",
    "\n",
    "As follows:\n",
    "```\n",
    "[\n",
    "    {\"role\": \"system\", \"content\": \"system message goes here\"},\n",
    "    {\"role\": \"user\", \"content\": \"user message goes here\"}\n",
    "]\n",
    "\n",
    "\n",
    "In the next two cells, we’ll demonstrate a simple call using this structure. Remember, this is just an introductory example—avoid adding extra features to the format for now.\n",
    "\n"
   ]
  },
  {
   "cell_type": "code",
   "execution_count": 72,
   "id": "857151ac-724b-44de-9e2e-fe78a1dadfe3",
   "metadata": {},
   "outputs": [],
   "source": [
    "messages = [\n",
    "    {\"role\": \"system\", \"content\": \"You are a wild verbose snarky assistant\"},\n",
    "    {\"role\": \"user\", \"content\": \"What is 2 + 2?\"}\n",
    "]"
   ]
  },
  {
   "cell_type": "code",
   "execution_count": 73,
   "id": "d4a37100-b62b-4dec-a5f7-52c49005796d",
   "metadata": {},
   "outputs": [
    {
     "name": "stdout",
     "output_type": "stream",
     "text": [
      "Ah, the age-old conundrum that has baffled minds since the dawn of arithmetic! While some may ponder the mysteries of the universe, we can bring our attention to the simplicity of this mathematical query. So, without further ado, let’s peel back the layers of this enigmatic puzzle: 2 + 2 equals a resounding 4! Who would have thought, right? Mind-blowing stuff, I know! Now, if only everything in life were as straightforward as this calculation!\n"
     ]
    }
   ],
   "source": [
    "# To give you a preview -- calling OpenAI with system and user messages:\n",
    "\n",
    "# Importing the OpenAI library to enable communication with their API\n",
    "response = openai.chat.completions.create(\n",
    "    model=\"gpt-4o-mini\",  # Specify the model to use for the completion\n",
    "    messages=messages     # Provide the chat history as input; typically includes 'system' and 'user' roles\n",
    ")\n",
    "\n",
    "# The response object contains the API's answer. \n",
    "# Extract the content of the response and print it. \n",
    "# Choices is an array; here we assume the first choice is the relevant one. \n",
    "print(response.choices[0].message.content)\n"
   ]
  },
  {
   "cell_type": "markdown",
   "id": "02bca827-c546-4544-9245-bb07eb483145",
   "metadata": {},
   "source": [
    "## And now let's build useful messages for GPT-4o-mini"
   ]
  },
  {
   "cell_type": "code",
   "execution_count": 74,
   "id": "cb16ff5e-4df3-48cb-aa25-477d3de2d21d",
   "metadata": {},
   "outputs": [],
   "source": [
    "# See how this function creates exactly the format above\n",
    "\n",
    "def messages_for(website):\n",
    "    return [\n",
    "        {\"role\": \"system\", \"content\": system_prompt},\n",
    "        {\"role\": \"user\", \"content\": user_prompt_for(website)}\n",
    "    ]"
   ]
  },
  {
   "cell_type": "code",
   "execution_count": 75,
   "id": "c73d4ac4-45b4-4115-be59-ba680a0e0e57",
   "metadata": {
    "scrolled": true
   },
   "outputs": [
    {
     "data": {
      "text/plain": [
       "[{'role': 'system',\n",
       "  'content': 'You are an assistant that analyzes the contents of a website and provides a short summary, ignoring text that might be navigation related. Respond in markdown.'},\n",
       " {'role': 'user',\n",
       "  'content': \"You are looking at a website titled Home - BBC News\\nThe contents of this website is as follows; please provide a short summary of this website in markdown. If it includes news or announcements, then summarize these too.\\n\\nBBC Homepage\\nSkip to content\\nAccessibility Help\\nYour account\\nNotifications\\nHome\\nNews\\nSport\\nWeather\\niPlayer\\nSounds\\nBitesize\\nCBBC\\nCBeebies\\nFood\\nMore menu\\nMore menu\\nSearch BBC\\nHome\\nNews\\nSport\\nWeather\\niPlayer\\nSounds\\nBitesize\\nCBBC\\nCBeebies\\nFood\\nClose menu\\nBBC News\\nMenu\\nHome\\nInDepth\\nIsrael-Gaza war\\nWar in Ukraine\\nClimate\\nUK\\nWorld\\nBusiness\\nPolitics\\nCulture\\nMore\\nTech\\nScience\\nHealth\\nFamily & Education\\nIn Pictures\\nNewsbeat\\nBBC Verify\\nDisability\\nEngland\\nN. Ireland\\nScotland\\nAlba\\nWales\\nCymru\\nLocal News\\nMy News\\nSign In Banner\\nDiscover your BBC\\nSign in or create an account to watch, listen and join in\\nSign in\\nor\\nRegister\\nClose sign in banner\\nBBC News\\nQuestions must be answered over Sara murder, PM says\\nIt follows calls to change the law so children like Sara Sharif, suspected to be victims of abuse, cannot be home-schooled.\\nAttribution\\nUK\\nPosted\\n1 hour ago\\n1h\\nUS man found wandering near Damascus after months in Syrian prison\\nAttribution\\nWorld\\nPosted\\n39 minutes ago\\n39min\\nFormer NI fire chief jailed for indecent assaults\\nAttribution\\nNorthern Ireland\\nPosted\\n26 minutes ago\\n26min\\nMan who tried to torch asylum hotel in summer riots jailed for nine years\\nAttribution\\nSouth Yorkshire\\nPosted\\n1 hour ago\\n1h\\nStarmer's plan to solve housing crisis faces first big test\\nAttribution\\nPolitics\\nPosted\\n2 hours ago\\n2h\\nComments\\n2900\\nGamer to creator - taking esports from bedroom to classroom\\nAttribution\\nNorthern Ireland\\nPosted\\n4 hours ago\\n4h\\nWhere next for Iran now that its 'Axis of Resistance' is shattered\\nAttribution\\nBBC InDepth\\nPosted\\n51 minutes ago\\n51min\\nHomeless single father wants home for his children\\nAttribution\\nNorthern Ireland\\nPosted\\n3 hours ago\\n3h\\nSelena Gomez announces engagement to Benny Blanco\\nAttribution\\nCulture\\nPosted\\n5 hours ago\\n5h\\nDonald Trump named Time Person of the Year again\\nAttribution\\nUS & Canada\\nPosted\\n53 minutes ago\\n53min\\nLet me go home, says teenager held in Dubai after holiday romance\\nAttribution\\nLondon\\nPosted\\n1 hour ago\\n1h\\nEight-month-old baby airlifted to hospital after dog attack\\nAttribution\\nKent\\nPosted\\n1 hour ago\\n1h\\nShopkeeper tracks down mum who stole Jellycat toys to sell on Vinted\\nAttribution\\nUK\\nPosted\\n8 hours ago\\n8h\\nChange my nation\\nclose panel\\nChange my nation\\nChange your nation to get more top stories from where you are, as well as the UK and international headlines.\\nUnited Kingdom\\nEngland\\nScotland\\nWales\\nNorthern Ireland\\nConfirm\\nYou are now seeing top stories for\\nNorthern Ireland\\nQuestions must be answered over Sara murder, PM says\\nIt follows calls to change the law so children like Sara Sharif, suspected to be victims of abuse, cannot be home-schooled.\\nAttribution\\nUK\\nPosted\\n1 hour ago\\n1h\\nUS man found wandering near Damascus after months in Syrian prison\\nAttribution\\nWorld\\nPosted\\n39 minutes ago\\n39min\\nOver 8,000 caught breaking 20mph limit on one road\\nAttribution\\nWales\\nPosted\\n3 hours ago\\n3h\\nMan who tried to torch asylum hotel in summer riots jailed for nine years\\nAttribution\\nSouth Yorkshire\\nPosted\\n1 hour ago\\n1h\\nStarmer's plan to solve housing crisis faces first big test\\nAttribution\\nPolitics\\nPosted\\n2 hours ago\\n2h\\nComments\\n2900\\nMum uses TikTok profits to buy women's refuge supplies\\nAttribution\\nWales\\nPosted\\n38 minutes ago\\n38min\\nCouncil under fire for DIY Christmas tree decision\\nAttribution\\nWales\\nPosted\\n6 hours ago\\n6h\\nWhere next for Iran now that its 'Axis of Resistance' is shattered\\nAttribution\\nBBC InDepth\\nPosted\\n51 minutes ago\\n51min\\nSelena Gomez announces engagement to Benny Blanco\\nAttribution\\nCulture\\nPosted\\n5 hours ago\\n5h\\nDonald Trump named Time Person of the Year again\\nAttribution\\nUS & Canada\\nPosted\\n53 minutes ago\\n53min\\nLet me go home, says teenager held in Dubai after holiday romance\\nAttribution\\nLondon\\nPosted\\n1 hour ago\\n1h\\nMorgan confident Welsh councils won't go bust\\nAttribution\\nWales\\nPosted\\n1 hour ago\\n1h\\nEight-month-old baby airlifted to hospital after dog attack\\nAttribution\\nKent\\nPosted\\n1 hour ago\\n1h\\nChange my nation\\nclose panel\\nChange my nation\\nChange your nation to get more top stories from where you are, as well as the UK and international headlines.\\nUnited Kingdom\\nEngland\\nScotland\\nWales\\nNorthern Ireland\\nConfirm\\nYou are now seeing top stories for\\nWales\\nQuestions must be answered over Sara murder, PM says\\nIt follows calls to change the law so children like Sara Sharif, suspected to be victims of abuse, cannot be home-schooled.\\nAttribution\\nUK\\nPosted\\n1 hour ago\\n1h\\nUS man found wandering near Damascus after months in Syrian prison\\nAttribution\\nWorld\\nPosted\\n39 minutes ago\\n39min\\nMan who tried to torch asylum hotel in summer riots jailed for nine years\\nAttribution\\nSouth Yorkshire\\nPosted\\n1 hour ago\\n1h\\nStarmer's plan to solve housing crisis faces first big test\\nAttribution\\nPolitics\\nPosted\\n2 hours ago\\n2h\\nComments\\n2900\\nWhere next for Iran now that its 'Axis of Resistance' is shattered\\nAttribution\\nBBC InDepth\\nPosted\\n51 minutes ago\\n51min\\nSelena Gomez announces engagement to Benny Blanco\\nAttribution\\nCulture\\nPosted\\n5 hours ago\\n5h\\nDonald Trump named Time Person of the Year again\\nAttribution\\nUS & Canada\\nPosted\\n53 minutes ago\\n53min\\nLet me go home, says teenager held in Dubai after holiday romance\\nAttribution\\nLondon\\nPosted\\n1 hour ago\\n1h\\nEight-month-old baby airlifted to hospital after dog attack\\nAttribution\\nKent\\nPosted\\n1 hour ago\\n1h\\nShopkeeper tracks down mum who stole Jellycat toys to sell on Vinted\\nAttribution\\nUK\\nPosted\\n8 hours ago\\n8h\\nBowel-cancer rates rising among younger people\\nAttribution\\nHealth\\nPosted\\n3 hours ago\\n3h\\nRape inquiry linked by Swedish media to Mbappé closed\\nAttribution\\nEurope\\nPosted\\n13 minutes ago\\n13min\\nChange my nation\\nclose panel\\nChange my nation\\nChange your nation to get more top stories from where you are, as well as the UK and international headlines.\\nUnited Kingdom\\nEngland\\nScotland\\nWales\\nNorthern Ireland\\nConfirm\\nYou are now seeing top stories for\\nScotland\\nQuestions must be answered over Sara murder, PM says\\nIt follows calls to change the law so children like Sara Sharif, suspected to be victims of abuse, cannot be home-schooled.\\nAttribution\\nUK\\nPosted\\n1 hour ago\\n1h\\nUS man found wandering near Damascus after months in Syrian prison\\nAttribution\\nWorld\\nPosted\\n39 minutes ago\\n39min\\nMan who tried to torch asylum hotel in summer riots jailed for nine years\\nAttribution\\nSouth Yorkshire\\nPosted\\n1 hour ago\\n1h\\nStarmer's plan to solve housing crisis faces first big test\\nAttribution\\nPolitics\\nPosted\\n2 hours ago\\n2h\\nComments\\n2907\\nWhere next for Iran now that its 'Axis of Resistance' is shattered\\nAttribution\\nBBC InDepth\\nPosted\\n51 minutes ago\\n51min\\nSelena Gomez announces engagement to Benny Blanco\\nAttribution\\nCulture\\nPosted\\n5 hours ago\\n5h\\nDonald Trump named Time Person of the Year again\\nAttribution\\nUS & Canada\\nPosted\\n53 minutes ago\\n53min\\nLet me go home, says teenager held in Dubai after holiday romance\\nAttribution\\nLondon\\nPosted\\n1 hour ago\\n1h\\nEight-month-old baby airlifted to hospital after dog attack\\nAttribution\\nKent\\nPosted\\n1 hour ago\\n1h\\nShopkeeper tracks down mum who stole Jellycat toys to sell on Vinted\\nAttribution\\nUK\\nPosted\\n8 hours ago\\n8h\\nBowel-cancer rates rising among younger people\\nAttribution\\nHealth\\nPosted\\n3 hours ago\\n3h\\nRape inquiry linked by Swedish media to Mbappé closed\\nAttribution\\nEurope\\nPosted\\n13 minutes ago\\n13min\\nChange my nation\\nclose panel\\nChange my nation\\nChange your nation to get more top stories from where you are, as well as the UK and international headlines.\\nUnited Kingdom\\nEngland\\nScotland\\nWales\\nNorthern Ireland\\nConfirm\\nYou are now seeing top stories for\\nEngland\\nQuestions must be answered over Sara murder, PM says\\nIt follows calls to change the law so children like Sara Sharif, suspected to be victims of abuse, cannot be home-schooled.\\nAttribution\\nUK\\nPosted\\n1 hour ago\\n1h\\nUS man found wandering near Damascus after months in Syrian prison\\nAttribution\\nWorld\\nPosted\\n39 minutes ago\\n39min\\nMan who tried to torch asylum hotel in summer riots jailed for nine years\\nAttribution\\nSouth Yorkshire\\nPosted\\n1 hour ago\\n1h\\nStarmer's plan to solve housing crisis faces first big test\\nAttribution\\nPolitics\\nPosted\\n2 hours ago\\n2h\\nComments\\n2900\\nWhere next for Iran now that its 'Axis of Resistance' is shattered\\nAttribution\\nBBC InDepth\\nPosted\\n51 minutes ago\\n51min\\nSelena Gomez announces engagement to Benny Blanco\\nAttribution\\nCulture\\nPosted\\n5 hours ago\\n5h\\nDonald Trump named Time Person of the Year again\\nAttribution\\nUS & Canada\\nPosted\\n53 minutes ago\\n53min\\nLet me go home, says teenager held in Dubai after holiday romance\\nAttribution\\nLondon\\nPosted\\n1 hour ago\\n1h\\nEight-month-old baby airlifted to hospital after dog attack\\nAttribution\\nKent\\nPosted\\n1 hour ago\\n1h\\nShopkeeper tracks down mum who stole Jellycat toys to sell on Vinted\\nAttribution\\nUK\\nPosted\\n8 hours ago\\n8h\\nBowel-cancer rates rising among younger people\\nAttribution\\nHealth\\nPosted\\n3 hours ago\\n3h\\nRape inquiry linked by Swedish media to Mbappé closed\\nAttribution\\nEurope\\nPosted\\n13 minutes ago\\n13min\\nChange my nation\\nclose panel\\nChange my nation\\nChange your nation to get more top stories from where you are, as well as the UK and international headlines.\\nUnited Kingdom\\nEngland\\nScotland\\nWales\\nNorthern Ireland\\nConfirm\\nYou are now seeing top stories for\\nthe UK\\nMore to explore\\nFive words that changed the Sara Sharif murder trial\\nA dramatic admission by Sara's father left jurors open-mouthed and a courtroom shocked.\\nAttribution\\nUK\\nPosted\\n14 hours ago\\n14h\\nMeet Karol G, Colombia's Taylor Swift\\nAttribution\\nLatin America\\nPosted\\n14 hours ago\\n14h\\nWhat's behind car finance mis-selling complaints?\\nAttribution\\nBusiness\\nPosted\\n1 hour ago\\n1h\\nHow Luigi Mangione's legal defence could take shape\\nAttribution\\nUS & Canada\\nPosted\\n11 hours ago\\n11h\\nTaking on the GCHQ Christmas challenge? These experts can help\\nAttribution\\nUK\\nPosted\\n17 hours ago\\n17h\\nBBC News app\\nTop stories, breaking news, live reporting, and follow news topics that match your interests\\nBBC News app\\nMost watched\\n1\\nWatch: Small plane split in two in crash on US highway\\n2\\nBBC sees crowd surge over rumoured execution of Assad henchman\\n3\\nSlade's Holder wakes up wife every Christmas with iconic lyric\\n4\\nWatch: Moment house explodes in north-east London\\n5\\nSyria rebels burn tomb of Bashar al-Assad's father\\nAlso in news\\nRecord court backlog as victims wait years for justice\\nIn some cases, victims reporting serious crimes such as rape won't see suspects tried for four years.\\nAttribution\\nUK\\nPosted\\n1 hour ago\\n1h\\nComments\\n0\\nPlans for energy tariffs with no standing charges\\nAttribution\\nBusiness\\nPosted\\n5 hours ago\\n5h\\nComments\\n1010\\nOver 8,000 caught breaking 20mph limit on one road\\nAttribution\\nWales\\nPosted\\n3 hours ago\\n3h\\nYung Filly charged with reckless driving while on bail for rape charges\\nAttribution\\nAustralia\\nPosted\\n1 hour ago\\n1h\\nCurrys says price rises 'inevitable' after Budget\\nAttribution\\nBusiness\\nPosted\\n3 hours ago\\n3h\\nComments\\n265\\nMobo Awards founder Kanya King reveals cancer diagnosis\\nAttribution\\nNewsbeat\\nPosted\\n1 hour ago\\n1h\\nBiden commutes 1,500 sentences and announces presidential pardons\\nAttribution\\nUS & Canada\\nPosted\\n1 hour ago\\n1h\\nMost read\\n1\\nShopkeeper tracks down mum who stole Jellycat toys to sell on Vinted\\n2\\nUS man found wandering near Damascus after months in Syrian prison\\n3\\nAsylum hotel rioter jailed for nine years\\n4\\nLet me come home, teen sentenced in Dubai pleads\\n5\\nSelena Gomez announces engagement to Benny Blanco\\n6\\nDonald Trump named Time Person of the Year again\\n7\\nTwo held as baby hurt in suspected XL bully attack\\n8\\nOver 8,000 caught breaking 20mph limit on one road\\n9\\nStarmer's plan to solve housing crisis faces first big test\\n10\\nBowel-cancer rates rising among younger people\\nThe Upbeat\\nStart your week on a high with uplifting stories delivered to your inbox every Monday.\\nSign up here\\nMore news on iPlayer and Sounds\\nWatch live on iPlayer\\nListen to Live News on Sounds\\nNigel Farage, Reform and the Future of British Politics. Audio, 61 minutes\\nNigel Farage, Reform and the Future of British Politics\\nAttribution\\nBBC Radio 4\\nLuigi Mangione and the UnitedHealthcare murder. Audio, 39 minutes\\nLuigi Mangione and the UnitedHealthcare murder\\nAttribution\\nBBC News\\nElsewhere on the BBC\\nEnjoy two hours of festive anthems with Greg James\\nFeaturing Christmas hits from Ed Sheeran, Little Mix, Sam Smith and more!\\nAttribution\\nSounds\\nThe dramatic quest to recover ancient DNA\\nAttribution\\niPlayer\\nHow did Mandela try to end apartheid as a young activist?\\nAttribution\\nSounds\\nA baffling unsolved murder hides a secret in plain sight\\nAttribution\\niPlayer\\nTrace the true history of the gladiators with Dan Snow\\nAttribution\\nSounds\\nWhat will gene-editing mean for human evolution?\\nAttribution\\niPlayer\\nRichard Osman's top 10 Christmas party hits\\nAttribution\\nSounds\\nSport\\nLive\\n.\\nPremier League news conferences: 'Embarrassing to be on five points' - Southampton's Martin\\nAll the latest football news as Premier League matches hold news conferences before the weekend, plus Europa and Conference League build-up and Champions League reaction.\\nAttribution\\nFootball\\nWhy Alvarez is making Guardiola's 'mistake' fear come true\\nAttribution\\nChampions League\\nPosted\\n14 hours ago\\n14h\\nNFL legend Belichick returns as college coach\\nAttribution\\nAmerican Football\\nPosted\\n7 hours ago\\n7h\\nCan Postecoglou rediscover old comforts in Glasgow?\\nAttribution\\nScottish Prem\\nPosted\\n6 hours ago\\n6h\\nThe Hundred pay gap widens between top men and women\\nAttribution\\nThe Hundred\\nPosted\\n2 hours ago\\n2h\\nComments\\n257\\nFord hungry for England return after difficult autumn\\nAttribution\\nSale\\nPosted\\n6 hours ago\\n6h\\nComments\\n137\\nHow Lewis-Skelly impressed on Champions League debut. Video, 00:02:03\\nHow Lewis-Skelly impressed on Champions League debut\\nAttribution\\nEuropean Football\\nPosted\\n14 hours ago\\n14h\\n2:03\\nView more\\nNews alerts\\nReport an issue\\nSend a story\\nWhy you can trust BBC News\\nInstagram\\nTikTok\\nFacebook\\nX\\nBest of the BBC\\nRival artists compete to create beauty\\nAttribution\\niPlayer\\nLaughter, hope and incredible medicine\\nAttribution\\nSounds\\nProvocative, haunting new drama\\nAttribution\\niPlayer\\nA birthday toast to a legendary actor\\nAttribution\\nSounds\\nHome\\nNews\\nSport\\nWeather\\niPlayer\\nSounds\\nCBBC\\nCBeebies\\nFood\\nBitesize\\nArts\\nTaster\\nLocal News\\nThree\\nTerms of Use\\nAbout the BBC\\nPrivacy Policy\\nCookies\\nAccessibility Help\\nParental Guidance\\nContact the BBC\\nMake an editorial complaint\\nGet Personalised Newsletters\\nWhy you can trust the BBC\\n© 2024 BBC. The BBC is not responsible for the content of external sites.\\nRead about our approach to external linking.\"}]"
      ]
     },
     "execution_count": 75,
     "metadata": {},
     "output_type": "execute_result"
    }
   ],
   "source": [
    "# Try this out, and then try for a few more websites\n",
    "# note that the behavior here will be set by the user and systems prompts define earlier not the ones defined the snarky wild assistant demo\n",
    "\n",
    "messages_for(bbc)"
   ]
  },
  {
   "cell_type": "markdown",
   "id": "54faed37-4600-4d77-b426-a9c7ca41f9fc",
   "metadata": {},
   "source": [
    "#### Note that this previous output is not very readable. Remember that the above are just the messages that we'll send through the OpenAI API. \n",
    "\n",
    "Now that we have our messages formatted correctly so that the api can pass them, let's produce the website summary!"
   ]
  },
  {
   "cell_type": "markdown",
   "id": "a5b76230-48f7-49b1-99b8-b98d3f507ca2",
   "metadata": {},
   "source": [
    "## Fourth step: Building our product\n",
    "\n",
    "[openAI's related docs](https://platform.openai.com/docs/guides/text-generation)"
   ]
  },
  {
   "attachments": {
    "98f4b738-9a1c-44c0-9d79-a2624f2093e7.jpg": {
     "image/jpeg": "[encoded data removed]"
    }
   },
   "cell_type": "markdown",
   "id": "a543d33b-d85b-4417-bec5-ec05bbc4f7a1",
   "metadata": {
    "jp-MarkdownHeadingCollapsed": true
   },
   "source": [
    "### What we've build so far\n",
    "\n",
    "![Picture2.jpg](attachment:98f4b738-9a1c-44c0-9d79-a2624f2093e7.jpg)\n",
    "\n",
    "Diagram of what wer're trying to build. "
   ]
  },
  {
   "cell_type": "code",
   "execution_count": 76,
   "id": "ea1b3722-7b2a-4c9f-a8b0-d87ebdbf6a2b",
   "metadata": {},
   "outputs": [],
   "source": [
    "# And now: wecall the OpenAI API (knock on the gates of the castle carrying goods to trade and hoping for the best, sire)...\n",
    "\n",
    "def summarize(url):\n",
    "    # The function will take a URL as input and return will return summary of the web page.\n",
    "\n",
    "    # Create a `Website` object using the provided URL. Remember the Website class?\n",
    "\n",
    "    website = Website(url)\n",
    "\n",
    "    # Generate a chat completion using OpenAI's API. This is necessary even if we're doing only one round of Q and A with the model \n",
    "\n",
    "    response = openai.chat.completions.create(\n",
    "        model=\"gpt-4o-mini\",  # Specify the model to use for the task.\n",
    "        messages=messages_for(website),  # Provide the formatted messages from the website.\n",
    "        # temperature=0.7  ## see what happens when you play around with this parameter\n",
    "    )\n",
    "\n",
    "    # Extract the content of the first choice in the API's response and return it as the summary.\n",
    "    return response.choices[0].message.content\n"
   ]
  },
  {
   "cell_type": "code",
   "execution_count": 77,
   "id": "345eee8b-f6d7-4657-8387-8b2a11ea5974",
   "metadata": {},
   "outputs": [
    {
     "data": {
      "text/plain": [
       "\"# Summary of BBC News Homepage\\n\\nThe BBC News website provides up-to-date coverage of significant events and topical issues from the UK and around the world. Key highlights from recent articles include:\\n\\n- **Sara Sharif Murder Case:** Prime Minister emphasizes the need for legal reform to protect children like Sara, suspected abuse victims, from being home-schooled (1 hour ago).\\n  \\n- **US Prisoner Found:** A U.S. citizen has been discovered near Damascus after being imprisoned in Syria for several months (39 minutes ago).\\n  \\n- **Asylum Hotel Incident:** A man has received a nine-year sentence for attempting to set fire to an asylum hotel during summer riots (1 hour ago).\\n  \\n- **Housing Crisis in the UK:** Opposition leader Keir Starmer's proposals to tackle the housing crisis face their first significant challenge (2 hours ago).\\n\\n- **Cultural Updates:** Selena Gomez has publicly announced her engagement to Benny Blanco (5 hours ago), and Donald Trump has been named Time's Person of the Year again (53 minutes ago).\\n\\n- **Health Concerns:** Reports indicate a rise in bowel-cancer rates among younger individuals (3 hours ago), and ongoing discussions are surrounding a report on increasing complaints related to car finance mis-selling (1 hour ago).\\n\\nAdditional reports touch on various topics including a teenager's plea for release from detention in Dubai (1 hour ago), and a tragic case where an eight-month-old baby was airlifted to the hospital following a dog attack (1 hour ago).\\n\\nOverall, the website serves as a comprehensive news portal offering a blend of political, social, cultural, and health-related news.\""
      ]
     },
     "execution_count": 77,
     "metadata": {},
     "output_type": "execute_result"
    }
   ],
   "source": [
    "summarize(\"https://www.bbc.co.uk/news\")\n",
    "\n"
   ]
  },
  {
   "cell_type": "markdown",
   "id": "d262e30a-5bca-4c2e-8895-4e1c11b95b66",
   "metadata": {},
   "source": [
    "## However, the output is not very readable\n",
    "\n"
   ]
  },
  {
   "cell_type": "code",
   "execution_count": 78,
   "id": "219f3145-9b68-4e80-8065-f1925517c3ba",
   "metadata": {},
   "outputs": [
    {
     "data": {
      "text/markdown": [
       "# BBC News Summary\n",
       "\n",
       "The BBC News homepage features a variety of current news topics across multiple categories including UK, World, Politics, and Culture. Key stories highlighted include:\n",
       "\n",
       "- **Sara Sharif Murder Case**: Calls for legal changes to prevent home-schooling for children suspected of abuse, alongside a statement from the Prime Minister that there are pressing questions to be answered regarding the case.\n",
       "- **US Man in Syria**: A US citizen has been located near Damascus after spending months in a Syrian prison.\n",
       "- **Housing Crisis**: Keir Starmer's proposed solutions for the housing crisis are facing significant scrutiny.\n",
       "- **Cultural Updates**: Selena Gomez has announced her engagement to Benny Blanco, while Donald Trump has been named Time Person of the Year again.\n",
       "- **Health Concerns**: Rising rates of bowel cancer among younger individuals are reported.\n",
       "- **Other Notable Incidents**: A teenager held in Dubai has called for release after a holiday romance; an eight-month-old baby was airlifted to the hospital following a dog attack.\n",
       "\n",
       "This overview encapsulates the breadth of news coverage offered by BBC News and highlights significant developments across various domains."
      ],
      "text/plain": [
       "<IPython.core.display.Markdown object>"
      ]
     },
     "metadata": {},
     "output_type": "display_data"
    }
   ],
   "source": [
    "\n",
    "def display_summary(url):\n",
    "    \"\"\"\n",
    "    Fetches and displays a summarized version of the webpage content using markdown formatting in Jupyter.\n",
    "\n",
    "    Args:\n",
    "        url (str): The URL of the webpage to summarize.\n",
    "\n",
    "    Returns:\n",
    "        None: Displays the summary directly in the Jupyter Notebook output cell.\n",
    "    \"\"\"\n",
    "    # Call the `summarize` function to generate a summary of the webpage\n",
    "    summary = summarize(url)\n",
    "    \n",
    "    # Use the `Markdown` class from IPython.display to render the summary in Markdown format\n",
    "    display(Markdown(summary))\n",
    "\n",
    "\n",
    "display_summary(\"https://www.bbc.co.uk/news\")\n"
   ]
  },
  {
   "cell_type": "markdown",
   "id": "63f7dfeb-32f4-4d10-9090-43509a56fbb1",
   "metadata": {},
   "source": [
    "# Let's try with a few other websites!"
   ]
  },
  {
   "cell_type": "markdown",
   "id": "94aa1f0e-7355-4c59-8bd5-f84121e749a1",
   "metadata": {},
   "source": [
    "# Reuters Stocks news"
   ]
  },
  {
   "cell_type": "code",
   "execution_count": 79,
   "id": "b4ed8004-1a27-4ed6-9dbc-d55dbe559004",
   "metadata": {},
   "outputs": [
    {
     "data": {
      "text/markdown": [
       "# Summary of Reuters.com\n",
       "\n",
       "Reuters.com is a prominent news website offering a wide range of news articles, analysis, and updates on various topics, including politics, business, technology, and global events. The site is known for its fast and accurate reporting, providing users with the latest developments in a concise manner.\n",
       "\n",
       "## Key Highlights\n",
       "- **News Coverage**: Comprehensive coverage of current events, with particular focus on financial markets, political affairs, and international relations.\n",
       "- **Business Insights**: In-depth analysis and reports on business trends, corporate announcements, and economic data.\n",
       "- **Global Perspective**: Articles covering news from different regions worldwide, reflecting diverse viewpoints and situations.\n",
       "\n",
       "This website is a reliable source for staying informed about world events and market movements."
      ],
      "text/plain": [
       "<IPython.core.display.Markdown object>"
      ]
     },
     "metadata": {},
     "output_type": "display_data"
    }
   ],
   "source": [
    "display_summary(\"https://www.reuters.com/markets/europe/\")"
   ]
  },
  {
   "cell_type": "markdown",
   "id": "ba6add4c-f213-4b16-a958-af933fb932a6",
   "metadata": {},
   "source": [
    "# Ironhack"
   ]
  },
  {
   "cell_type": "code",
   "execution_count": 80,
   "id": "3aff69c6-2e6c-425e-9284-debb00cc33c2",
   "metadata": {},
   "outputs": [
    {
     "data": {
      "text/markdown": [
       "# Summary of Best Tech Bootcamps in Portugal | Ironhack\n",
       "\n",
       "Ironhack offers intensive bootcamp courses designed to prepare students for tech careers in a short period, typically three months. The available courses cover a variety of fields such as:\n",
       "\n",
       "- Web Development\n",
       "- Data Analytics\n",
       "- UX/UI Design\n",
       "- Cybersecurity\n",
       "- Data Science & Machine Learning\n",
       "- Artificial Intelligence\n",
       "- DevOps & Cloud Computing\n",
       "- Digital Marketing\n",
       "\n",
       "Students can choose to attend classes in person in Lisbon or remotely.\n",
       "\n",
       "## Financing Options\n",
       "Ironhack provides flexible financing solutions, including a \"Study now, pay later\" program via Income Share Agreements (ISA).\n",
       "\n",
       "## Locations and Accessibility\n",
       "Courses are available both in-person and online across various campuses worldwide, with a focus on remote learning.\n",
       "\n",
       "## Community and Support\n",
       "The bootcamp emphasizes community engagement and alumni support, claiming over 18,000 graduates and partnerships with more than 600 companies. \n",
       "\n",
       "## Recent Announcements\n",
       "- **Report:** \"State of Tech 2023,\" analyzing the tech industry's trends in Portugal.\n",
       "- **New Bootcamp:** \"Learn Data Science and Machine Learning,\" introduced for aspiring tech professionals.\n",
       "\n",
       "## Free Resources\n",
       "Ironhack also offers an array of free learning resources, including courses on JavaScript and UX design, along with webinars, podcasts, and eBooks to further assist learners in their journey.\n",
       "\n",
       "Overall, Ironhack positions itself as a comprehensive platform for individuals seeking a fast track into the tech industry, combining rigorous education, community support, and flexible financial options."
      ],
      "text/plain": [
       "<IPython.core.display.Markdown object>"
      ]
     },
     "metadata": {},
     "output_type": "display_data"
    }
   ],
   "source": [
    "display_summary(\"https://www.ironhack.com/pt-en\")"
   ]
  },
  {
   "cell_type": "markdown",
   "id": "d43c89b2-572f-4f3d-97af-a1f24d2fdaf4",
   "metadata": {},
   "source": [
    "# MIT's AI What’s next for AI in 2024\n",
    "\n",
    "This is a relatively long piece, around 2300 words, let's see how good our summariser is!\n"
   ]
  },
  {
   "cell_type": "code",
   "execution_count": 81,
   "id": "b6c4a997-8b18-4764-8710-3ecad9f2cd14",
   "metadata": {},
   "outputs": [
    {
     "data": {
      "text/markdown": [
       "# Summary of \"What’s next for AI in 2024\" | MIT Technology Review\n",
       "\n",
       "The **MIT Technology Review** article outlines four major trends to watch for in the field of artificial intelligence (AI) in 2024:\n",
       "\n",
       "1. **Customized Chatbots**: Tech companies like Google and OpenAI are developing user-friendly platforms for creating customized AI chatbots, allowing users without technical skills to design personalized applications. The success of this trend relies on addressing existing issues such as biases and inaccuracies in AI models.\n",
       "\n",
       "2. **Generative AI’s Second Wave: Video**: The shift from text-to-image models to text-to-video generation is anticipated to transform digital media. Companies like Runway are leading the way in this new frontier, with improvements leading to more sophisticated video outputs. This advancement raises ethical concerns, especially regarding deepfakes and their potential misuse in media.\n",
       "\n",
       "3. **AI-Generated Election Disinformation**: As electoral activities ramp up in 2024, the potential for AI-generated disinformation is significant. Instances of AI misuse in politics, evidenced by manipulated images and videos during recent elections, point to the urgent need for effective measures to combat misleading content.\n",
       "\n",
       "4. **Robots That Multitask**: Inspired by recent advances in generative AI, researchers are working on developing general-purpose robots capable of performing a wider variety of tasks. Companies are beginning to implement these capabilities, particularly in applications like driverless technology, which is being enhanced by broader AI models.\n",
       "\n",
       "The article emphasizes the increasing importance of addressing the challenges posed by these advancements, particularly in terms of ethics, reliability, and societal impact."
      ],
      "text/plain": [
       "<IPython.core.display.Markdown object>"
      ]
     },
     "metadata": {},
     "output_type": "display_data"
    }
   ],
   "source": [
    "display_summary(\"https://www.technologyreview.com/2024/01/04/1086046/whats-next-for-ai-in-2024/\")"
   ]
  },
  {
   "cell_type": "markdown",
   "id": "be9ba416-1b0b-4826-ad00-3bed7169a895",
   "metadata": {},
   "source": [
    "# Let's find out if we can do this in other languages!\n",
    "## this is an article in Arabic about Copper handicrafts"
   ]
  },
  {
   "cell_type": "code",
   "execution_count": 82,
   "id": "d8a8c2b3-3b1a-42fc-a34f-1ac25168ee7b",
   "metadata": {},
   "outputs": [
    {
     "data": {
      "text/markdown": [
       "# ملخص موقع فن زخرفة النحاس - eFonoon.com\n",
       "\n",
       "موقع eFonoon.com يركز على فن زخرفة النحاس والمشغولات اليدوية النحاسية. يقدم الموقع معلومات غنية عن تاريخ النحاس واستخداماته، حيث يُشير إلى أن النحاس كان يُستخدم منذ العصور القديمة لصنع الأدوات والمنازل وتحف فنية. ويستعرض كيف أن فن الصناعات اليدوية النحاسية بدأ في عصر المماليك في مصر، حيث أصبحت هذه المشغولات جزءاً أساسياً من الحياة اليومية للمجتمعات العربية.\n",
       "\n",
       "## مقالات مهمة\n",
       "- **تاريخ النحاس**: يتحدث عن استخدام النحاس في مصر القديمة وتجارته وتأثيره على الحضارات.\n",
       "- **طريقة تصنيع المشغولات النحاسية**: يصف العمليات الإبداعية اللازمة لتحويل النحاس الخام إلى منتجات فنية، ويشمل ذكر الأدوات والطرق التقليدية المستخدمة من قبل الفنيين.\n",
       "\n",
       "## أخبار جديدة\n",
       "- مقالات جديدة مضافة تتعلق بفنون الأرابيسك والترصيع بالصدف، والتحف الفنية من الجلد الطبيعي، وفن الكروشيه، مع تواريخ نشر تتراوح بين 14 يونيو 2023 و9 يونيو 2023.\n",
       "\n",
       "يتضمن الموقع أيضاً عرض شحن مجاني على الطلبات التي تزيد قيمتها عن 160 دولار لعملاء دول الخليج."
      ],
      "text/plain": [
       "<IPython.core.display.Markdown object>"
      ]
     },
     "metadata": {},
     "output_type": "display_data"
    }
   ],
   "source": [
    "\n",
    "display_summary(\"https://efonoon.com/blogs/efonoon-blog/%D9%81%D9%86-%D8%B2%D8%AE%D8%B1%D9%81%D8%A9-%D8%A7%D9%84%D9%86%D8%AD%D8%A7%D8%B3\")"
   ]
  },
  {
   "cell_type": "markdown",
   "id": "8fa67e57-58d4-4f4f-8d6c-dc3a7afee311",
   "metadata": {},
   "source": [
    "\n",
    "---\n"
   ]
  },
  {
   "cell_type": "markdown",
   "id": "686670bb-d4f1-4f7e-aa6e-45049f07ecd5",
   "metadata": {},
   "source": [
    "---\n"
   ]
  },
  {
   "cell_type": "markdown",
   "id": "fef0814f-0768-49cc-b251-5ffab7b5662a",
   "metadata": {},
   "source": [
    "## Conclusion\n",
    "\n",
    "Throughout this notebook, we've explored how the OpenAI API can be leveraged to build practical applications, such as text summarization. The princples introduced also applies to other AI providers like Meta or Anthropic. They also apply to AI systems that use different modalities such as text to image generators or sppech to text, etc. \n",
    "\n",
    "The business applications of this text summariser are many. For example,  it summarizing news articles, generating concise overviews for resumes, summarise scientific articles, or crafting subject lines for emails.\n",
    "\n",
    "However, powerful products can be built when you look at this approach from a big picture point of view. For example, you could use multiple summaries of scientific articles in the last year to produce a grand  summary of where a particular field is heading. \n",
    "\n",
    "\n",
    "\n",
    "### Business Implications\n",
    "AI products built using OpenAI's API have the potential to improve businesses by driving innovation and improving operations. For instance:\n",
    "\n",
    "- **Enhanced Productivity:** Automating repetitive and time-consuming tasks allows teams to focus on more strategic initiatives. This saves a lot of time and person-hours and transfers to higher profitability.\n",
    "- \n",
    "- **Scalability:** AI-driven solutions enable businesses to handle large-scale operations efficiently, such as processing vast amounts of data or serving numerous customers simultaneously. Services like OpenAI's api are built to handle very large volume of requests/traffic. There's a case to be made, however, whether this is wise to do for safety critical systems (say a medical notes summariser deployed in a hospital, what happens if OpenAI's servers are down?)\n",
    "\n",
    "- **Personalisation:** If we're building a product for end users, this will add a personal (human?) touch to individual users' experiences. \n",
    "\n"
   ]
  },
  {
   "cell_type": "markdown",
   "id": "0c8abf66-9288-44b1-97f5-519042323fcf",
   "metadata": {},
   "source": [
    "\n",
    "### Future Applications\n",
    "The applications of OpenAI's API are not limited to specific use cases but extend to a broad range of domains and industries. For example, AI can improve  healthcare outcomes by assisting in medical diagnosis, training medical students on interviewing patients, or summarising medical research papers. In education, genAI llms could be used a tutors specialised in specific fields. \n",
    "Business that leverag AI tech, will be able to develop and test mvps from ideas quickly and iterate, all at a minimal cost. \n",
    "\n",
    "\n",
    "Moreover, AI systems can also act as virtual assistants or interactive agents in customer service, providing meaningful user interactions. These technologies promise to bring a new level of convenience to various aspects of daily life and work.\n",
    "\n",
    "### Ethics and Regulations\n",
    "As AI becomes more pervasive, it is critical to address ethical considerations and regulatory compliance. Ensuring transparency, fairness, and accountability in AI systems is essential to building trust among users and stakeholders. Bias mitigation, data privacy, and secure deployment are challenges that require continuous attention. Furthermore, these guardrails are more important in critial domains such as healthcare or finance. An AI system misdiagnosing patients' cancers due to gender bias can lead to catastrophic outcomes for that patient. Such precautions, however, may come at the cost of performance, development time, and finacial costs. However, they are vital to consider before deploying any AI powered app to the market. \n",
    "\n",
    "\n",
    "\n",
    "\n",
    "\n",
    "\n"
   ]
  },
  {
   "cell_type": "markdown",
   "id": "022e82d8-2af9-499e-9cd6-1a146c0953d5",
   "metadata": {},
   "source": [
    "## References\n",
    "\n",
    "Here are some reliable and beginner-friendly resources to learn more about OpenAI API and related topics:\n",
    "\n",
    "1. **OpenAI API Documentation**  \n",
    "   - Official documentation for the OpenAI API, including examples and best practices.  \n",
    "   - [https://platform.openai.com/docs/](https://platform.openai.com/docs/)\n",
    "\n",
    "2. **OpenAI API Quickstart Tutorial**  \n",
    "   - A step-by-step guide to getting started with the OpenAI API.  \n",
    "   - [https://github.com/openai/openai-quickstart-python](https://github.com/openai/openai-quickstart-python)\n",
    "\n",
    "\n",
    "\n"
   ]
  },
  {
   "cell_type": "code",
   "execution_count": null,
   "id": "8d9bc436-134a-476b-90a9-fb16bcbb8829",
   "metadata": {},
   "outputs": [],
   "source": []
  }
 ],
 "metadata": {
  "kernelspec": {
   "display_name": "Python 3 (ipykernel)",
   "language": "python",
   "name": "python3"
  },
  "language_info": {
   "codemirror_mode": {
    "name": "ipython",
    "version": 3
   },
   "file_extension": ".py",
   "mimetype": "text/x-python",
   "name": "python",
   "nbconvert_exporter": "python",
   "pygments_lexer": "ipython3",
   "version": "3.11.11"
  }
 },
 "nbformat": 4,
 "nbformat_minor": 5
}
