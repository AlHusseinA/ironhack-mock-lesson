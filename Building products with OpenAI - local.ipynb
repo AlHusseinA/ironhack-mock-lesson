{
 "cells": [
  {
   "cell_type": "markdown",
   "id": "b84b37d1-322e-4a32-8a6b-a6b7f631fb11",
   "metadata": {},
   "source": [
    "# Building products with OpenAI\n",
    "\n",
    "### Building an mvp for a text website summariser\n",
    "\n",
    "\n",
    "Note: The code here is from  [Ed Donner's](https://github.com/ed-donner/llm_engineering/tree/main/week1) and modified further by myself.\n",
    "\n",
    "A significant portion of the boilerplate code below is also taken from [openAI text generation docs](https://platform.openai.com/docs/guides/text-generation) which I highly recommend. \n"
   ]
  },
  {
   "cell_type": "markdown",
   "id": "0a3a22dd-08ed-4a58-b85e-7728759f242c",
   "metadata": {},
   "source": [
    "## First step: Building our virtual environment\n",
    "\n",
    "This will make sure that all the foundational code that we don't see but that our code absolutely needs is accessible to our code. There are two files that contain lists of the required libraries that you will need to install.\n",
    "\n",
    "There are two ways to do this. Please follow the instructions laid out by Ed; they're quite straightforward with alternative routes if this didn't work:\n",
    "\n",
    "1. [MacOS](https://github.com/ed-donner/llm_engineering/blob/main/SETUP-mac.md)  \n",
    "2. [Windows PC](https://github.com/ed-donner/llm_engineering/blob/main/SETUP-PC.md)\n",
    "\n",
    "If this was done correctly, the cell below (with import statements) should not produce any errors. "
   ]
  },
  {
   "cell_type": "code",
   "execution_count": 35,
   "id": "60520b8a-7d9d-4f32-8e8c-163a9cfbad8f",
   "metadata": {},
   "outputs": [],
   "source": [
    "import os\n",
    "import requests\n",
    "from dotenv import load_dotenv\n",
    "from bs4 import BeautifulSoup\n",
    "from IPython.display import Markdown, display\n",
    "from openai import OpenAI"
   ]
  },
  {
   "cell_type": "markdown",
   "id": "5457d32b-944a-4ffb-9476-fedb4ed00fa2",
   "metadata": {},
   "source": [
    "## Second step: Connect to OpenAI's api\n",
    "1. Go to platform.openai.com and create an account\n",
    "2. Go to https://platform.openai.com/api-keys and create an api_key. Make sure to copy it into a notepad\n",
    "3. Go to https://platform.openai.com/settings/organization/billing/overview and charge your account with the minimum amount $5\n",
    "4. On your machine launch the terminal (type cmd in start menue or cmd+space then type terminal)\n",
    "5. Type nano .env. It must be '.env' exactly!\n",
    "6. This will launch a text editor in your terminal. Type 'OPENAI_API_KEY=' then paste the api key. Make sure there's no space between the '=' and the key\n",
    "7. Save the file by pressing ^+ o. Hit enter to save the file.\n",
    "8. ^ + x to leave nano and go back to the terminal\n",
    "9. Confirm by going to the directory where you saved the .env. Launch the terminal, type 'cat ls' you should see the feel (typing only 'ls' would 'list' the visible files and folders only)"
   ]
  },
  {
   "cell_type": "code",
   "execution_count": 36,
   "id": "19e17b31-fb3a-4885-8ca5-7955825ff049",
   "metadata": {},
   "outputs": [
    {
     "name": "stdout",
     "output_type": "stream",
     "text": [
      "API key found and looks good so far!\n"
     ]
    }
   ],
   "source": [
    "\n",
    "load_dotenv()\n",
    "api_key = os.getenv('OPENAI_API_KEY') # this will get the key we stored in .env\n",
    "\n",
    "# Check the key\n",
    "\n",
    "if not api_key:\n",
    "    print(\"No API key was found, please double check the '.env' file\")\n",
    "    \n",
    "elif not api_key.startswith(\"sk-proj-\"): #openai api keys always start with sk-proj-\n",
    "    print(\"An API key was found, but it doesn't start sk-proj-; please check you're using the right key\")\n",
    "    \n",
    "elif api_key.strip() != api_key:\n",
    "    print(\"An API key was found, but it looks like it might have space or tab characters at the start or end - please remove them - Your OS may have modified the text string when you copied and paste! It happens!\")\n",
    "    \n",
    "else:\n",
    "    print(\"API key found and looks good so far!\")\n"
   ]
  },
  {
   "cell_type": "code",
   "execution_count": 37,
   "id": "01e965c5-e0fe-4b32-b9c8-0246af9e9cdc",
   "metadata": {},
   "outputs": [],
   "source": [
    "openai = OpenAI()\n",
    "\n",
    "# If the above doesn't work, restart the kernel (from the menue of jupyter lab), and re run the cells. Or sub with: \n",
    "# If the above doesn't work, restart the kernel (from the menue of jupyter lab), and re run the cells. Or sub with: "
   ]
  },
  {
   "cell_type": "markdown",
   "id": "d1d1d920-4c9d-4c5e-9536-a5b5638d83e6",
   "metadata": {},
   "source": [
    "## Third step: Getting to know OpenAI's api protocols\n"
   ]
  },
  {
   "cell_type": "markdown",
   "id": "ab1fcc55-62dd-491f-b6f7-ea4b15c23877",
   "metadata": {},
   "source": [
    "### We're now at the gate of the castle. We've passed the initial checks, we definitely belong. We can now interact directly with the model we wish to use. However, we can't take the model out of the castle (openAI) as this is a closed source model"
   ]
  },
  {
   "cell_type": "code",
   "execution_count": 38,
   "id": "cd7ae40d-42e6-469a-bcd2-6d3e3a6d9c98",
   "metadata": {},
   "outputs": [
    {
     "name": "stdout",
     "output_type": "stream",
     "text": [
      "Greetings, noble traveler from a distant kingdom! Your quest for candy has reached my ears. While I may not have a treasure trove of sweets, I can certainly guide you on your quest! What type of candy do you seek? Chocolate, gummies, hard candy, or perhaps something else? Together, we shall find the sweetest delights! 🍬✨\n"
     ]
    }
   ],
   "source": [
    "message = \"<play along> Hello, there! I stand before you as a humble messenger from a kingdom faraway! I need help! I have been looking for candy for days! Have you got any!?\"\n",
    "\n",
    "response = openai.chat.completions.create(model=\"gpt-4o-mini\", messages=[{\"role\":\"user\", \"content\":message}]) # witll save the answer in response given the question stored in message from us the 'user'\n",
    "print(response.choices[0].message.content)"
   ]
  },
  {
   "cell_type": "markdown",
   "id": "f4c6b5ee-4ca3-4b03-9254-9c67ef9eb054",
   "metadata": {},
   "source": [
    "## It's aliiiive! \n",
    "\n",
    "### Now, let's build our mvp! \n",
    "\n",
    "\n",
    "The code below:\n",
    "1. The code defines a `Website` class that uses the `requests` library to fetch the HTML content of a webpage and the `BeautifulSoup` library to parse it.  \n",
    "2. A custom `headers` dictionary is used to mimic a legitimate browser request, ensuring compatibility with most websites.  \n",
    "3. The class processes the webpage to extract the title and clean textual content, removing irrelevant elements like scripts, styles, images, and inputs.  \n"
   ]
  },
  {
   "cell_type": "code",
   "execution_count": 39,
   "id": "8417be4d-e059-4c39-bbff-ade7c809edbc",
   "metadata": {},
   "outputs": [],
   "source": [
    "# If you're not familiar with Classes, check out the this  tutorial (33 mins tutorial, you only need to know the basic idea, no need to watch the entire video): https://www.youtube.com/watch?v=tmY6FEF8f1o\n",
    "\n",
    "# Some websites need you to use proper headers when fetching them:\n",
    "\n",
    "# Some websites need you to use proper headers when fetching them:\n",
    "headers = {\n",
    "    # \"User-Agent\" is a key in the headers dictionary that specifies the browser and system making the request.\n",
    "    # Websites often check this to ensure that the request comes from a legitimate source (e.g., a browser).\n",
    "    # By mimicking a browser (like Chrome in this case), we prevent the website from blocking or restricting our request.\n",
    "    \"User-Agent\": \"Mozilla/5.0 (Windows NT 10.0; Win64; x64) AppleWebKit/537.36 (KHTML, like Gecko) Chrome/117.0.0.0 Safari/537.36\"\n",
    "}\n",
    "class Website:\n",
    "\n",
    "    def __init__(self, url):\n",
    "        \"\"\"\n",
    "        Create this Website object from the given url using the BeautifulSoup library\n",
    "        \"\"\"\n",
    "        self.url = url\n",
    "        # Sending the request with the headers ensures that the website treats it as a legitimate browser request.\n",
    "\n",
    "        response = requests.get(url, headers=headers)\n",
    "        soup = BeautifulSoup(response.content, 'html.parser')\n",
    "        self.title = soup.title.string if soup.title else \"No title found\"\n",
    "        for irrelevant in soup.body([\"script\", \"style\", \"img\", \"input\"]):\n",
    "            irrelevant.decompose()\n",
    "        self.text = soup.body.get_text(separator=\"\\n\", strip=True)\n",
    "        "
   ]
  },
  {
   "cell_type": "markdown",
   "id": "b9dbae39-73e3-40a8-95e0-2123cbb0e2e1",
   "metadata": {},
   "source": [
    "### Let's test it out!\n",
    "I chose the bbc/news website (recommended by therapist) but feel free to modfiy this\n"
   ]
  },
  {
   "cell_type": "code",
   "execution_count": 40,
   "id": "4da419bc-efde-4d0b-baaa-2f98b0b3ebd2",
   "metadata": {},
   "outputs": [
    {
     "name": "stdout",
     "output_type": "stream",
     "text": [
      "Home - BBC News\n",
      "#################\n",
      "BBC Homepage\n",
      "Skip to content\n",
      "Accessibility Help\n",
      "Your account\n",
      "Notifications\n",
      "Home\n",
      "News\n",
      "Sport\n",
      "Weather\n",
      "iPlayer\n",
      "Sounds\n",
      "Bitesize\n",
      "CBBC\n",
      "CBeebies\n",
      "Food\n",
      "More menu\n",
      "More menu\n",
      "Search BBC\n",
      "Home\n",
      "News\n"
     ]
    }
   ],
   "source": [
    "bbc = Website(\"https://www.bbc.co.uk/news\")\n",
    "print(bbc.title)\n",
    "print(\"#################\")\n",
    "# Truncate the text to 20 lines otherwise the printout will be huge!\n",
    "truncated_text = \"\\n\".join(bbc.text.splitlines()[:20])\n",
    "print(truncated_text)"
   ]
  },
  {
   "cell_type": "markdown",
   "id": "043c63d2-5aee-4932-a275-f40a0dd3ef5a",
   "metadata": {},
   "source": [
    "### A word about prompts!\n",
    "\n",
    "Generally speaking, with GenAI there are two types of prompts:\n",
    "1. System prompts: This tells the generic AI model to morph itself and prepare to transform into < insert desired role >. For example, GPT4o-mini is a foundation LLM that can do many things. However, here we're only interested in it's role being a text summariser.\n",
    "\n",
    "2. User prompt: This is what the user specifically wants from the model. For example, your 'user prompt' could be a book that you would like the llm to summarise.\n",
    "\n",
    "In both cases, small changes to syntax, order of words, or formulation of the text may lead to significant improvement (or deterioration) in performance. There's an entire field now called Prompt Engineering. For extra reading look into:\n",
    "1. [Anthropic Prompt Engineering Overview](https://docs.anthropic.com/en/docs/build-with-claude/prompt-engineering/overview)\n",
    "2. [OpenAI Prompt Engineering Guide](https://platform.openai.com/docs/guides/prompt-engineering)\n",
    "3. [AssemblyAI's crash course - 14 mins](https://www.youtube.com/watch?v=aOm75o2Z5-o)\n",
    "\n"
   ]
  },
  {
   "cell_type": "code",
   "execution_count": 41,
   "id": "1790a3c0-1407-45f3-8aa7-8aaa0711808a",
   "metadata": {},
   "outputs": [],
   "source": [
    "# Let's define our system prompt - you can experiment with this later, changing the last sentence to 'Respond in markdown in Spanish.\"\n",
    "\n",
    "system_prompt = \"You are an assistant that analyzes the contents of a website \\\n",
    "and provides a short summary, ignoring text that might be navigation related. \\\n",
    "Respond in markdown.\""
   ]
  },
  {
   "cell_type": "code",
   "execution_count": 42,
   "id": "76626571-5dc1-478b-90b7-0d490e3e6e58",
   "metadata": {},
   "outputs": [],
   "source": [
    "# A function that writes a User Prompt that asks for summaries of websites:\n",
    "# For an overview what Python functions are: https://www.youtube.com/watch?v=zvzjaqMBEso\n",
    "\n",
    "\n",
    "\n",
    "def user_prompt_for(website):\n",
    "    # Creates a string that introduces the title of the website.\n",
    "    # This helps contextualize the content for the user or downstream applications if this mvp is going to part of a larger pipeline.\n",
    "    user_prompt = f\"You are looking at a website titled {website.title}\" #user_prompt1\n",
    "    \n",
    "    # Adds a description of what to do with the website content.\n",
    "    # The instructions are formatted to be clear and precise, asking for a markdown summary. It will become evident later below why we asked for the response to be in markdown\n",
    "    # The \"\\n\" ensures the instructions are on a new line, improving readability in the final prompt. '\\n' is computer speak for 'new line'\n",
    "    user_prompt += \"\\nThe contents of this website is as follows; \\\n",
    "please provide a short summary of this website in markdown. \\\n",
    "If it includes news or announcements, then summarize these too.\\n\\n\" # user_prompt2\n",
    "    \n",
    "    # Append the full text content of the website to the prompt.\n",
    "    # This gives the user or downstream system the data needed to create the summary.\n",
    "\n",
    "    user_prompt += website.text\n",
    "    \n",
    "    # so now the GPT4o-mini will receive, via the api, <user_prompt1> + <user_prompt2> + <user_prompt3>\n",
    "\n",
    "    # Return the complete prompt string to main.\n",
    "    # The final prompt combines context, instructions, and website content for further use.\n",
    "    return user_prompt\n",
    "\n",
    "\n",
    "    "
   ]
  },
  {
   "cell_type": "markdown",
   "id": "474650c4-60e5-42b2-8153-4043867ec804",
   "metadata": {},
   "source": [
    "### let's check if this was done correctly (truncated to 20 lines):"
   ]
  },
  {
   "cell_type": "code",
   "execution_count": 43,
   "id": "fc2343d3-6273-4725-ae59-d7542dabfaa2",
   "metadata": {},
   "outputs": [
    {
     "name": "stdout",
     "output_type": "stream",
     "text": [
      "You are looking at a website titled Home - BBC News\n",
      "The contents of this website is as follows; please provide a short summary of this website in markdown. If it includes news or announcements, then summarize these too.\n",
      "\n",
      "BBC Homepage\n",
      "Skip to content\n",
      "Accessibility Help\n",
      "Your account\n",
      "Notifications\n",
      "Home\n",
      "News\n",
      "Sport\n",
      "Weather\n",
      "iPlayer\n",
      "Sounds\n",
      "Bitesize\n",
      "CBBC\n",
      "CBeebies\n",
      "Food\n",
      "More menu\n",
      "More menu\n"
     ]
    }
   ],
   "source": [
    "# Generate the user prompt\n",
    "full_prompt = user_prompt_for(bbc)\n",
    "\n",
    "# Truncate the prompt to only the first 20 lines\n",
    "truncated_prompt = \"\\n\".join(full_prompt.splitlines()[:20])\n",
    "print(truncated_prompt)"
   ]
  },
  {
   "cell_type": "markdown",
   "id": "f8b3d699-fd12-4f37-bd54-4649204aa863",
   "metadata": {},
   "source": [
    "## Format of messages when communicating with OpenAI's api \n",
    "\n",
    "The API from OpenAI expects to receive messages in a particular structure.\n",
    "Many of the other APIs share this structure:\n",
    "\n",
    "```\n",
    "[\n",
    "    {\"role\": \"system\", \"content\": \"system message goes here\"},\n",
    "    {\"role\": \"user\", \"content\": \"user message goes here\"}\n",
    "]\n",
    "\n",
    "To give you a preview, the next 2 cells make a rather simple call - we won't stretch the might GPT (yet!)"
   ]
  },
  {
   "cell_type": "markdown",
   "id": "25848ec5-4dcf-40cb-a031-b517ae280b90",
   "metadata": {},
   "source": [
    "## Format of messages when communicating with OpenAI's API\n",
    "\n",
    "When interacting with OpenAI’s models, you must provide the conversation in a specific structured format. This format clarifies each message’s role and makes the conversation context explicit. Many other language model APIs follow a similar pattern:\n",
    "\n",
    "\n",
    "\n",
    "- **system messages (these are the system prompts discussed abvoe)** are used to set the overall context, behavior, and guidelines for the model.\n",
    "- **user messages (these are the user prompts discussed above)** represent the instructions or queries from the user.\n",
    "\n",
    "As follows:\n",
    "```\n",
    "[\n",
    "    {\"role\": \"system\", \"content\": \"system message goes here\"},\n",
    "    {\"role\": \"user\", \"content\": \"user message goes here\"}\n",
    "]\n",
    "\n",
    "\n",
    "In the next two cells, we’ll demonstrate a simple call using this structure. Remember, this is just an introductory example—avoid adding extra features to the format for now.\n",
    "\n"
   ]
  },
  {
   "cell_type": "code",
   "execution_count": 44,
   "id": "857151ac-724b-44de-9e2e-fe78a1dadfe3",
   "metadata": {},
   "outputs": [],
   "source": [
    "messages = [\n",
    "    {\"role\": \"system\", \"content\": \"You are a wild verbose snarky assistant\"},\n",
    "    {\"role\": \"user\", \"content\": \"What is 2 + 2?\"}\n",
    "]"
   ]
  },
  {
   "cell_type": "code",
   "execution_count": 45,
   "id": "d4a37100-b62b-4dec-a5f7-52c49005796d",
   "metadata": {},
   "outputs": [
    {
     "name": "stdout",
     "output_type": "stream",
     "text": [
      "Ah, the classic conundrum of mathematical simplicity! The answer you're seeking is, in fact, 4. A number so universally acknowledged and accepted that it has probably been etched into the minds of countless kindergarteners and mathematicians alike. If only all questions were so straightforward, but alas, life often has other plans!\n"
     ]
    }
   ],
   "source": [
    "# To give you a preview -- calling OpenAI with system and user messages:\n",
    "\n",
    "# Importing the OpenAI library to enable communication with their API\n",
    "response = openai.chat.completions.create(\n",
    "    model=\"gpt-4o-mini\",  # Specify the model to use for the completion\n",
    "    messages=messages     # Provide the chat history as input; typically includes 'system' and 'user' roles\n",
    ")\n",
    "\n",
    "# The response object contains the API's answer. \n",
    "# Extract the content of the response and print it. \n",
    "# Choices is an array; here we assume the first choice is the relevant one. \n",
    "print(response.choices[0].message.content)\n"
   ]
  },
  {
   "cell_type": "markdown",
   "id": "02bca827-c546-4544-9245-bb07eb483145",
   "metadata": {},
   "source": [
    "## And now let's build useful messages for GPT-4o-mini"
   ]
  },
  {
   "cell_type": "code",
   "execution_count": 46,
   "id": "cb16ff5e-4df3-48cb-aa25-477d3de2d21d",
   "metadata": {},
   "outputs": [],
   "source": [
    "# See how this function creates exactly the format above\n",
    "\n",
    "def messages_for(website):\n",
    "    return [\n",
    "        {\"role\": \"system\", \"content\": system_prompt},\n",
    "        {\"role\": \"user\", \"content\": user_prompt_for(website)}\n",
    "    ]"
   ]
  },
  {
   "cell_type": "code",
   "execution_count": 47,
   "id": "c73d4ac4-45b4-4115-be59-ba680a0e0e57",
   "metadata": {
    "scrolled": true
   },
   "outputs": [
    {
     "data": {
      "text/plain": [
       "[{'role': 'system',\n",
       "  'content': 'You are an assistant that analyzes the contents of a website and provides a short summary, ignoring text that might be navigation related. Respond in markdown.'},\n",
       " {'role': 'user',\n",
       "  'content': \"You are looking at a website titled Home - BBC News\\nThe contents of this website is as follows; please provide a short summary of this website in markdown. If it includes news or announcements, then summarize these too.\\n\\nBBC Homepage\\nSkip to content\\nAccessibility Help\\nYour account\\nNotifications\\nHome\\nNews\\nSport\\nWeather\\niPlayer\\nSounds\\nBitesize\\nCBBC\\nCBeebies\\nFood\\nMore menu\\nMore menu\\nSearch BBC\\nHome\\nNews\\nSport\\nWeather\\niPlayer\\nSounds\\nBitesize\\nCBBC\\nCBeebies\\nFood\\nClose menu\\nBBC News\\nMenu\\nHome\\nInDepth\\nIsrael-Gaza war\\nWar in Ukraine\\nClimate\\nUK\\nWorld\\nBusiness\\nPolitics\\nCulture\\nMore\\nTech\\nScience\\nHealth\\nFamily & Education\\nIn Pictures\\nNewsbeat\\nBBC Verify\\nDisability\\nEngland\\nN. Ireland\\nScotland\\nAlba\\nWales\\nCymru\\nLocal News\\nMy News\\nSign In Banner\\nDiscover your BBC\\nSign in or create an account to watch, listen and join in\\nSign in\\nor\\nRegister\\nClose sign in banner\\nBBC News\\nFive words that changed the Sara Sharif murder trial\\nA dramatic admission by Sara's father left jurors open-mouthed and a courtroom shocked.\\nAttribution\\nUK\\nPosted\\n10 hours ago\\n10h\\nSyria rebel leader vows to shut down notorious Assad prisons\\nAttribution\\nMiddle East\\nPosted\\n4 hours ago\\n4h\\nHomeless single father wants home for his children\\nAttribution\\nNorthern Ireland\\nPosted\\n33 minutes ago\\n33min\\nStarmer's plan to solve housing crisis faces first big test\\nAttribution\\nPolitics\\nPosted\\n1 hour ago\\n1h\\nComments\\n346\\nPlans for new energy tariffs with no standing charges\\nAttribution\\nBusiness\\nPosted\\n1 hour ago\\n1h\\nComments\\n135\\nTwo held as baby hurt in suspected XL bully attack\\nAttribution\\nKent\\nPosted\\n25 minutes ago\\n25min\\nLaw to cut emissions in NI approved by assembly\\nAttribution\\nNorthern Ireland Politics\\nPosted\\n4 hours ago\\n4h\\nComments\\n4\\nWoman says struck-off sex GP tried to 'choke' her\\nAttribution\\nEngland\\nPosted\\n4 hours ago\\n4h\\nShopkeeper tracks down mum who stole Jellycat toys to sell on Vinted\\nAttribution\\nUK\\nPosted\\n4 hours ago\\n4h\\nAssisted dying now accounts for nearly one in 20 deaths in Canada\\nAttribution\\nUS & Canada\\nPosted\\n7 hours ago\\n7h\\nUS woman found safe after disappearance sparked conspiracy theories\\nAttribution\\nUS & Canada\\nPosted\\n10 hours ago\\n10h\\nCurrys says price rises 'inevitable' after Budget\\nAttribution\\nBusiness\\nPosted\\n55 minutes ago\\n55min\\nSelena Gomez announces engagement to Benny Blanco\\nAttribution\\nCulture\\nPosted\\n2 hours ago\\n2h\\nChange my nation\\nclose panel\\nChange my nation\\nChange your nation to get more top stories from where you are, as well as the UK and international headlines.\\nUnited Kingdom\\nEngland\\nScotland\\nWales\\nNorthern Ireland\\nConfirm\\nYou are now seeing top stories for\\nNorthern Ireland\\nFive words that changed the Sara Sharif murder trial\\nA dramatic admission by Sara's father left jurors open-mouthed and a courtroom shocked.\\nAttribution\\nUK\\nPosted\\n10 hours ago\\n10h\\nSyria rebel leader vows to shut down notorious Assad prisons\\nAttribution\\nMiddle East\\nPosted\\n4 hours ago\\n4h\\nOver 8,000 caught breaking 20mph limit on one road\\nAttribution\\nWales\\nPosted\\n4 hours ago\\n4h\\nStarmer's plan to solve housing crisis faces first big test\\nAttribution\\nPolitics\\nPosted\\n1 hour ago\\n1h\\nComments\\n346\\nPlans for new energy tariffs with no standing charges\\nAttribution\\nBusiness\\nPosted\\n1 hour ago\\n1h\\nComments\\n135\\nCouncil under fire for DIY Christmas tree decision\\nAttribution\\nWales\\nPosted\\n2 hours ago\\n2h\\nTwo held as baby hurt in suspected XL bully attack\\nAttribution\\nKent\\nPosted\\n25 minutes ago\\n25min\\nSchoolboy DJ, 10, supports rave legend Judge Jules\\nAttribution\\nWales\\nPosted\\n4 hours ago\\n4h\\nWoman says struck-off sex GP tried to 'choke' her\\nAttribution\\nEngland\\nPosted\\n4 hours ago\\n4h\\nShopkeeper tracks down mum who stole Jellycat toys to sell on Vinted\\nAttribution\\nUK\\nPosted\\n4 hours ago\\n4h\\nAssisted dying now accounts for nearly one in 20 deaths in Canada\\nAttribution\\nUS & Canada\\nPosted\\n7 hours ago\\n7h\\nUS woman found safe after disappearance sparked conspiracy theories\\nAttribution\\nUS & Canada\\nPosted\\n10 hours ago\\n10h\\nCurrys says price rises 'inevitable' after Budget\\nAttribution\\nBusiness\\nPosted\\n55 minutes ago\\n55min\\nChange my nation\\nclose panel\\nChange my nation\\nChange your nation to get more top stories from where you are, as well as the UK and international headlines.\\nUnited Kingdom\\nEngland\\nScotland\\nWales\\nNorthern Ireland\\nConfirm\\nYou are now seeing top stories for\\nWales\\nFive words that changed the Sara Sharif murder trial\\nA dramatic admission by Sara's father left jurors open-mouthed and a courtroom shocked.\\nAttribution\\nUK\\nPosted\\n10 hours ago\\n10h\\nSyria rebel leader vows to shut down notorious Assad prisons\\nAttribution\\nMiddle East\\nPosted\\n4 hours ago\\n4h\\nStarmer's plan to solve housing crisis faces first big test\\nAttribution\\nPolitics\\nPosted\\n1 hour ago\\n1h\\nComments\\n346\\nPlans for new energy tariffs with no standing charges\\nAttribution\\nBusiness\\nPosted\\n1 hour ago\\n1h\\nComments\\n135\\nTwo held as baby hurt in suspected XL bully attack\\nAttribution\\nKent\\nPosted\\n25 minutes ago\\n25min\\nWoman says struck-off sex GP tried to 'choke' her\\nAttribution\\nEngland\\nPosted\\n4 hours ago\\n4h\\nShopkeeper tracks down mum who stole Jellycat toys to sell on Vinted\\nAttribution\\nUK\\nPosted\\n4 hours ago\\n4h\\nAssisted dying now accounts for nearly one in 20 deaths in Canada\\nAttribution\\nUS & Canada\\nPosted\\n7 hours ago\\n7h\\nUS woman found safe after disappearance sparked conspiracy theories\\nAttribution\\nUS & Canada\\nPosted\\n10 hours ago\\n10h\\nCurrys says price rises 'inevitable' after Budget\\nAttribution\\nBusiness\\nPosted\\n55 minutes ago\\n55min\\nSelena Gomez announces engagement to Benny Blanco\\nAttribution\\nCulture\\nPosted\\n2 hours ago\\n2h\\nOver 8,000 caught breaking 20mph limit on one road\\nAttribution\\nWales\\nPosted\\n4 hours ago\\n4h\\nChange my nation\\nclose panel\\nChange my nation\\nChange your nation to get more top stories from where you are, as well as the UK and international headlines.\\nUnited Kingdom\\nEngland\\nScotland\\nWales\\nNorthern Ireland\\nConfirm\\nYou are now seeing top stories for\\nScotland\\nFive words that changed the Sara Sharif murder trial\\nA dramatic admission by Sara's father left jurors open-mouthed and a courtroom shocked.\\nAttribution\\nUK\\nPosted\\n10 hours ago\\n10h\\nSyria rebel leader vows to shut down notorious Assad prisons\\nAttribution\\nMiddle East\\nPosted\\n4 hours ago\\n4h\\nStarmer's plan to solve housing crisis faces first big test\\nAttribution\\nPolitics\\nPosted\\n1 hour ago\\n1h\\nComments\\n346\\nPlans for new energy tariffs with no standing charges\\nAttribution\\nBusiness\\nPosted\\n1 hour ago\\n1h\\nComments\\n135\\nTwo held as baby hurt in suspected XL bully attack\\nAttribution\\nKent\\nPosted\\n25 minutes ago\\n25min\\nWoman says struck-off sex GP tried to 'choke' her\\nAttribution\\nEngland\\nPosted\\n4 hours ago\\n4h\\nShopkeeper tracks down mum who stole Jellycat toys to sell on Vinted\\nAttribution\\nUK\\nPosted\\n4 hours ago\\n4h\\nAssisted dying now accounts for nearly one in 20 deaths in Canada\\nAttribution\\nUS & Canada\\nPosted\\n7 hours ago\\n7h\\nUS woman found safe after disappearance sparked conspiracy theories\\nAttribution\\nUS & Canada\\nPosted\\n10 hours ago\\n10h\\nCurrys says price rises 'inevitable' after Budget\\nAttribution\\nBusiness\\nPosted\\n55 minutes ago\\n55min\\nSelena Gomez announces engagement to Benny Blanco\\nAttribution\\nCulture\\nPosted\\n2 hours ago\\n2h\\nOver 8,000 caught breaking 20mph limit on one road\\nAttribution\\nWales\\nPosted\\n4 hours ago\\n4h\\nChange my nation\\nclose panel\\nChange my nation\\nChange your nation to get more top stories from where you are, as well as the UK and international headlines.\\nUnited Kingdom\\nEngland\\nScotland\\nWales\\nNorthern Ireland\\nConfirm\\nYou are now seeing top stories for\\nEngland\\nFive words that changed the Sara Sharif murder trial\\nA dramatic admission by Sara's father left jurors open-mouthed and a courtroom shocked.\\nAttribution\\nUK\\nPosted\\n10 hours ago\\n10h\\nSyria rebel leader vows to shut down notorious Assad prisons\\nAttribution\\nMiddle East\\nPosted\\n4 hours ago\\n4h\\nStarmer's plan to solve housing crisis faces first big test\\nAttribution\\nPolitics\\nPosted\\n1 hour ago\\n1h\\nComments\\n346\\nPlans for new energy tariffs with no standing charges\\nAttribution\\nBusiness\\nPosted\\n1 hour ago\\n1h\\nComments\\n135\\nTwo held as baby hurt in suspected XL bully attack\\nAttribution\\nKent\\nPosted\\n25 minutes ago\\n25min\\nWoman says struck-off sex GP tried to 'choke' her\\nAttribution\\nEngland\\nPosted\\n4 hours ago\\n4h\\nShopkeeper tracks down mum who stole Jellycat toys to sell on Vinted\\nAttribution\\nUK\\nPosted\\n4 hours ago\\n4h\\nAssisted dying now accounts for nearly one in 20 deaths in Canada\\nAttribution\\nUS & Canada\\nPosted\\n7 hours ago\\n7h\\nUS woman found safe after disappearance sparked conspiracy theories\\nAttribution\\nUS & Canada\\nPosted\\n10 hours ago\\n10h\\nCurrys says price rises 'inevitable' after Budget\\nAttribution\\nBusiness\\nPosted\\n55 minutes ago\\n55min\\nSelena Gomez announces engagement to Benny Blanco\\nAttribution\\nCulture\\nPosted\\n2 hours ago\\n2h\\nOver 8,000 caught breaking 20mph limit on one road\\nAttribution\\nWales\\nPosted\\n4 hours ago\\n4h\\nChange my nation\\nclose panel\\nChange my nation\\nChange your nation to get more top stories from where you are, as well as the UK and international headlines.\\nUnited Kingdom\\nEngland\\nScotland\\nWales\\nNorthern Ireland\\nConfirm\\nYou are now seeing top stories for\\nthe UK\\nMore to explore\\nHow Luigi Mangione's legal defence could take shape\\nPolice believe forensic and ballistic evidence ties the suspect to insurance CEO Brian Thompson's killing.\\nAttribution\\nUS & Canada\\nPosted\\n8 hours ago\\n8h\\nTaking on the GCHQ Christmas challenge? These experts can help\\nAttribution\\nUK\\nPosted\\n14 hours ago\\n14h\\n'My insurers say Storm Darragh was not a storm'\\nAttribution\\nHereford & Worcester\\nPosted\\n4 hours ago\\n4h\\nWatch: BBC's Jeremy Bowen sees crowd surge after Assad henchman execution rumours. Video, 00:02:09\\nWatch: BBC's Jeremy Bowen sees crowd surge after Assad henchman execution rumours\\nAttribution\\nMiddle East\\nPosted\\n14 hours ago\\n14h\\n2:09\\nRussian ships move from Syria base amid doubts over future\\nAttribution\\nWorld\\nPosted\\n19 hours ago\\n19h\\nBBC News app\\nTop stories, breaking news, live reporting, and follow news topics that match your interests\\nBBC News app\\nMost watched\\n1\\nBBC sees crowd surge over rumoured execution of Assad henchman\\n2\\nSyria rebels burn tomb of Bashar al-Assad's father\\n3\\nWatch: Small plane split in two in crash on US highway\\n4\\nWatch: BBC sees looting at Bashar al-Assad's residence\\n5\\nVideos show police interviewing Sara Sharif's father, stepmother and uncle\\nAlso in news\\nBriton, 18, on bail over sex with girl, 17, in Dubai\\nMarcus Fakana was sentenced to one year in prison over a sexual relationship with a British girl.\\nAttribution\\nLondon\\nPosted\\n51 minutes ago\\n51min\\nMystery New Jersey drones not from Iranian 'mothership' - Pentagon\\nAttribution\\nUS & Canada\\nPosted\\n8 hours ago\\n8h\\nDon't allow home schooling when abuse suspected, children's commissioner says\\nAttribution\\nUK\\nPosted\\n5 hours ago\\n5h\\nRap group Bad Boy Chiller Crew sue record label\\nAttribution\\nCulture\\nPosted\\n7 hours ago\\n7h\\nSavings targets could cost 10,000 civil service jobs\\nAttribution\\nPolitics\\nPosted\\n13 hours ago\\n13h\\nComments\\n23\\nS Korea's President Yoon vows to 'fight to the end'\\nAttribution\\nAsia\\nPosted\\n1 hour ago\\n1h\\nLiverpool library torched in summer riots celebrates reopening\\nAttribution\\nLiverpool\\nPosted\\n8 hours ago\\n8h\\nMost read\\n1\\nFive words that changed the Sara Sharif murder trial\\n2\\nShopkeeper tracks down mum who stole Jellycat toys to sell on Vinted\\n3\\n'My insurers say Storm Darragh was not a storm'\\n4\\nStarmer's plan to solve housing crisis faces first big test\\n5\\nPlans for energy tariffs with no standing charges\\n6\\nSelena Gomez announces engagement to Benny Blanco\\n7\\nOver 8,000 caught breaking 20mph limit on one road\\n8\\nWoman says struck-off sex GP tried to 'choke' her\\n9\\nTwo held as baby hurt in suspected XL bully attack\\n10\\nCanada euthanasia now accounts for nearly one in 20 deaths\\nThe Upbeat\\nStart your week on a high with uplifting stories delivered to your inbox every Monday.\\nSign up here\\nMore news on iPlayer and Sounds\\nWatch live on iPlayer\\nListen to Live News on Sounds\\nNigel Farage, Reform and the Future of British Politics. Audio, 61 minutes\\nNigel Farage, Reform and the Future of British Politics\\nAttribution\\nBBC Radio 4\\nLuigi Mangione and the UnitedHealthcare murder. Audio, 39 minutes\\nLuigi Mangione and the UnitedHealthcare murder\\nAttribution\\nBBC News\\nElsewhere on the BBC\\nBen Stiller and Robin Williams star in a fantasy comedy\\nRicky Gervais and Steve Coogan also pop into the museum which truly comes to life at night\\nAttribution\\niPlayer Films\\nBlur's bassist, Alex James, on his life and career\\nAttribution\\nSounds\\nLaugh with Miranda as she navigates life\\nAttribution\\niPlayer\\nFrom The Skewer’s Jon Holmes comes The Naked Week\\nAttribution\\nSounds\\nThe thrilling final chapter of Thomas Cromwell's life\\nAttribution\\niPlayer\\nThe bitter feud between two Glaswegian crime families\\nAttribution\\nSounds\\nFrom working-class kids to global superstars\\nAttribution\\niPlayer\\nSport\\nLive\\n.\\nWatch every Champions League goal plus reaction as Arsenal win and Man City lose\\nAll the latest Champions League highlights and reaction as Man City's slump in form continues at Juventus and Arsenal ease to victory over Monaco.\\nAttribution\\nFootball\\n'Never seen a Guardiola team this bad' - Man City under 'real pressure'\\nAttribution\\nMan City\\nPosted\\n11 hours ago\\n11h\\nComments\\n1122\\nNFL legend Belichick returns as college coach\\nAttribution\\nAmerican Football\\nPosted\\n4 hours ago\\n4h\\nCan Postecoglou rediscover old comforts in Glasgow?\\nAttribution\\nScottish Prem\\nPosted\\n3 hours ago\\n3h\\n'Generational talent' Soto seals £600m Mets deal - biggest in history of sport\\nAttribution\\nBaseball\\nPosted\\n10 hours ago\\n10h\\nHow Lewis-Skelly impressed on Champions League debut. Video, 00:02:03\\nHow Lewis-Skelly impressed on Champions League debut\\nAttribution\\nEuropean Football\\nPosted\\n10 hours ago\\n10h\\n2:03\\nSports Personality contender Littler's year in photos\\nAttribution\\nSports Personality\\nPosted\\n3 days ago\\n3d\\nView more\\nNews alerts\\nReport an issue\\nSend a story\\nWhy you can trust BBC News\\nInstagram\\nTikTok\\nFacebook\\nX\\nBest of the BBC\\nRival artists compete to create beauty\\nAttribution\\niPlayer\\nLaughter, hope and incredible medicine\\nAttribution\\nSounds\\nProvocative, haunting new drama\\nAttribution\\niPlayer\\nA birthday toast to a legendary actor\\nAttribution\\nSounds\\nHome\\nNews\\nSport\\nWeather\\niPlayer\\nSounds\\nCBBC\\nCBeebies\\nFood\\nBitesize\\nArts\\nTaster\\nLocal News\\nThree\\nTerms of Use\\nAbout the BBC\\nPrivacy Policy\\nCookies\\nAccessibility Help\\nParental Guidance\\nContact the BBC\\nMake an editorial complaint\\nGet Personalised Newsletters\\nWhy you can trust the BBC\\n© 2024 BBC. The BBC is not responsible for the content of external sites.\\nRead about our approach to external linking.\"}]"
      ]
     },
     "execution_count": 47,
     "metadata": {},
     "output_type": "execute_result"
    }
   ],
   "source": [
    "# Try this out, and then try for a few more websites\n",
    "# note that the behavior here will be set by the user and systems prompts define earlier not the ones defined the snarky wild assistant demo\n",
    "\n",
    "messages_for(bbc)"
   ]
  },
  {
   "cell_type": "markdown",
   "id": "54faed37-4600-4d77-b426-a9c7ca41f9fc",
   "metadata": {},
   "source": [
    "#### Note that this previous output is not very readable. Remember that the above are just the messages that we'll send through the OpenAI API. \n",
    "\n",
    "Now that we have our messages formatted correctly so that the api can pass them, let's produce the website summary!"
   ]
  },
  {
   "cell_type": "markdown",
   "id": "a5b76230-48f7-49b1-99b8-b98d3f507ca2",
   "metadata": {},
   "source": [
    "## Fourth step: Building our product\n",
    "\n",
    "[openAI's related docs](https://platform.openai.com/docs/guides/text-generation)"
   ]
  },
  {
   "cell_type": "code",
   "execution_count": 48,
   "id": "ea1b3722-7b2a-4c9f-a8b0-d87ebdbf6a2b",
   "metadata": {},
   "outputs": [],
   "source": [
    "# And now: wecall the OpenAI API (knock on the gates of the castle carrying goods to trade and hoping for the best, sire)...\n",
    "\n",
    "def summarize(url):\n",
    "    # The function will take a URL as input and return will return summary of the web page.\n",
    "\n",
    "    # Create a `Website` object using the provided URL. Remember the Website class?\n",
    "\n",
    "    website = Website(url)\n",
    "\n",
    "    # Generate a chat completion using OpenAI's API. This is necessary even if we're doing only one round of Q and A with the model \n",
    "\n",
    "    response = openai.chat.completions.create(\n",
    "        model=\"gpt-4o-mini\",  # Specify the model to use for the task.\n",
    "        messages=messages_for(website)  # Provide the formatted messages from the website.\n",
    "    )\n",
    "\n",
    "    # Extract the content of the first choice in the API's response and return it as the summary.\n",
    "    return response.choices[0].message.content\n"
   ]
  },
  {
   "cell_type": "code",
   "execution_count": 49,
   "id": "345eee8b-f6d7-4657-8387-8b2a11ea5974",
   "metadata": {},
   "outputs": [
    {
     "data": {
      "text/plain": [
       "\"# Summary of BBC News\\n\\nThe BBC News homepage offers a wide range of the latest news from the UK and around the world. Key highlights include:\\n\\n### Recent Articles\\n- **Sara Sharif Murder Trial**: A shocking admission by Sara's father has left jurors and courtroom attendees stunned.\\n- **Syria**: A rebel leader has pledged to shut down prisons notorious for human rights abuses under the Assad regime.\\n- **Housing Crisis**: Labour leader Keir Starmer faces significant challenges in addressing the UK housing crisis.\\n- **Energy Tariffs**: New plans propose energy tariffs that eliminate standing charges.\\n- **XL Bully Attack**: Two individuals have been arrested following an incident involving a baby and a suspected XL bully dog.\\n- **Struck-off GP Accusations**: A woman has accused a previously licensed sex GP of attempting to choke her.\\n- **Assisted Dying**: In Canada, assisted dying now constitutes nearly 5% of all deaths.\\n- **US Disappearance Case**: A US woman who went missing has been found safe after the case led to widespread conspiracy theories.\\n- **Selena Gomez Engagement**: Selena Gomez has announced her engagement to Benny Blanco.\\n\\n### Trending News\\n- Reports indicate that over 8,000 drivers were caught exceeding the 20 mph limit on a particular road in Wales.\\n- Commentary on the economic implications of recent budget decisions have prompted discussions about potential price increases in businesses, including Currys.\\n\\nThe BBC News site serves as a comprehensive source for up-to-date information on current events, offering insights and details across various topics.\""
      ]
     },
     "execution_count": 49,
     "metadata": {},
     "output_type": "execute_result"
    }
   ],
   "source": [
    "summarize(\"https://www.bbc.co.uk/news\")\n",
    "\n"
   ]
  },
  {
   "cell_type": "markdown",
   "id": "d262e30a-5bca-4c2e-8895-4e1c11b95b66",
   "metadata": {},
   "source": [
    "## Output is not very readable!"
   ]
  },
  {
   "cell_type": "code",
   "execution_count": 52,
   "id": "219f3145-9b68-4e80-8065-f1925517c3ba",
   "metadata": {},
   "outputs": [
    {
     "data": {
      "text/markdown": [
       "# BBC News Summary\n",
       "\n",
       "The BBC News website provides comprehensive coverage of current events across various domains, including politics, business, health, technology, and international news. \n",
       "\n",
       "## Recent Headlines\n",
       "1. **Sara Sharif Murder Trial**: A dramatic revelation from Sara's father has shocked jurors during the trial.\n",
       "2. **Syria's Rebel Leader**: A promise to shut down notorious prisons run by Assad was made by a Syrian rebel leader.\n",
       "3. **Housing Crisis**: Labour leader Keir Starmer's plan to address the housing crisis is facing its first major challenge.\n",
       "4. **Energy Tariffs**: There are plans for new energy tariffs that propose no standing charges for users.\n",
       "5. **XL Bully Attack**: Two individuals have been arrested in a suspected XL bully dog attack that injured a baby.\n",
       "6. **Struck-off GP Incident**: A woman alleges that a removed sex GP attempted to choke her during a consultation.\n",
       "7. **Stolen Toys Recovery**: A shopkeeper successfully tracked down a mother who stole Jellycat toys to resell online.\n",
       "8. **Assisted Dying Statistics**: Nearly 5% of deaths in Canada are now due to assisted dying.\n",
       "9. **US Disappearance**: A woman who sparked conspiracy theories regarding her disappearance has been found safe.\n",
       "10. **Selena Gomez Engagement**: Selena Gomez has announced her engagement to Benny Blanco.\n",
       "\n",
       "The website serves as a vital resource for breaking news and detailed reports on significant events locally and globally, offering insights into ongoing issues and significant happenings."
      ],
      "text/plain": [
       "<IPython.core.display.Markdown object>"
      ]
     },
     "metadata": {},
     "output_type": "display_data"
    }
   ],
   "source": [
    "\n",
    "def display_summary(url):\n",
    "    \"\"\"\n",
    "    Fetches and displays a summarized version of the webpage content using markdown formatting in Jupyter.\n",
    "\n",
    "    Args:\n",
    "        url (str): The URL of the webpage to summarize.\n",
    "\n",
    "    Returns:\n",
    "        None: Displays the summary directly in the Jupyter Notebook output cell.\n",
    "    \"\"\"\n",
    "    # Call the `summarize` function to generate a summary of the webpage\n",
    "    summary = summarize(url)\n",
    "    \n",
    "    # Use the `Markdown` class from IPython.display to render the summary in Markdown format\n",
    "    display(Markdown(summary))\n",
    "\n",
    "\n",
    "display_summary(\"https://www.bbc.co.uk/news\")\n"
   ]
  },
  {
   "cell_type": "markdown",
   "id": "63f7dfeb-32f4-4d10-9090-43509a56fbb1",
   "metadata": {},
   "source": [
    "# Let's try with a few other websites!"
   ]
  },
  {
   "cell_type": "markdown",
   "id": "94aa1f0e-7355-4c59-8bd5-f84121e749a1",
   "metadata": {},
   "source": [
    "# Reuters Stocks news"
   ]
  },
  {
   "cell_type": "code",
   "execution_count": 57,
   "id": "b4ed8004-1a27-4ed6-9dbc-d55dbe559004",
   "metadata": {},
   "outputs": [
    {
     "data": {
      "text/markdown": [
       "# Summary of Reuters.com\n",
       "\n",
       "Reuters.com is a leading global news organization that provides timely and unbiased news coverage on a variety of topics, including politics, business, finance, technology, and international affairs. The website features breaking news stories, in-depth articles, analysis, and multimedia content such as videos and infographics.\n",
       "\n",
       "## Key Highlights\n",
       "\n",
       "- **News Coverage**: Reuters covers a wide array of topics, offering insights into current events both domestically and internationally.\n",
       "- **Financial News**: The site provides updates on stock markets, economic trends, and corporate earnings.\n",
       "- **Expert Analysis**: Reuters includes opinion pieces and expert analyses that help readers understand complex issues.\n",
       "- **Multimedia Content**: The news outlet utilizes videos and interactive content to engage readers and enhance storytelling.\n",
       "\n",
       "Overall, Reuters.com serves as a comprehensive source of fact-driven journalism, aimed at informing readers around the globe."
      ],
      "text/plain": [
       "<IPython.core.display.Markdown object>"
      ]
     },
     "metadata": {},
     "output_type": "display_data"
    }
   ],
   "source": [
    "display_summary(\"https://www.reuters.com/markets/europe/\")"
   ]
  },
  {
   "cell_type": "markdown",
   "id": "ba6add4c-f213-4b16-a958-af933fb932a6",
   "metadata": {},
   "source": [
    "# Ironhack"
   ]
  },
  {
   "cell_type": "code",
   "execution_count": 53,
   "id": "3aff69c6-2e6c-425e-9284-debb00cc33c2",
   "metadata": {},
   "outputs": [
    {
     "data": {
      "text/markdown": [
       "# Best Tech Bootcamps in Portugal | Ironhack\n",
       "\n",
       "Ironhack offers immersive bootcamp courses designed to get students job-ready in a short period of time (3 months). The available courses include:\n",
       "\n",
       "- Web Development\n",
       "- Data Analytics\n",
       "- UX/UI Design\n",
       "- Cybersecurity\n",
       "- Data Science & Machine Learning\n",
       "- Artificial Intelligence\n",
       "- DevOps & Cloud Computing\n",
       "- Digital Marketing\n",
       "\n",
       "Students can opt to study either in-person in Lisbon or remotely. The bootcamp is structured to provide high-quality education with support throughout the learning journey, including career services and access to a global network of alumni and partner companies.\n",
       "\n",
       "### Financing Options\n",
       "The website highlights a \"Study Now, Pay Later\" financing option through Income Share Agreements (ISA), allowing students to start their education without immediate financial burden.\n",
       "\n",
       "### Resources\n",
       "Ironhack also offers many free resources, such as introductory courses, webinars, and articles, focusing on various tech topics to help prospective students.\n",
       "\n",
       "### Recent News\n",
       "- An announcement of a new eBook titled **\"Becoming a Digital Nomad,\"** providing insights on working remotely while traveling.\n",
       "- The **\"State of Tech 2023\"** report offers an overview of the current technology industry landscape in Portugal.\n",
       "  \n",
       "With a focus on practicality and real-world skills, Ironhack aims to prepare students for successful careers in tech."
      ],
      "text/plain": [
       "<IPython.core.display.Markdown object>"
      ]
     },
     "metadata": {},
     "output_type": "display_data"
    }
   ],
   "source": [
    "display_summary(\"https://www.ironhack.com/pt-en\")"
   ]
  },
  {
   "cell_type": "markdown",
   "id": "d43c89b2-572f-4f3d-97af-a1f24d2fdaf4",
   "metadata": {},
   "source": [
    "# MIT's AI What’s next for AI in 2024\n",
    "\n",
    "This is a relatively long piece, around 2300 words, let's see how good our summariser is!\n"
   ]
  },
  {
   "cell_type": "code",
   "execution_count": 60,
   "id": "b6c4a997-8b18-4764-8710-3ecad9f2cd14",
   "metadata": {},
   "outputs": [
    {
     "data": {
      "text/markdown": [
       "# Summary of \"What’s next for AI in 2024\"\n",
       "\n",
       "The MIT Technology Review explores four key trends that will shape the landscape of artificial intelligence in 2024. The article reflects on previous predictions for 2023 and highlights the following emerging trends:\n",
       "\n",
       "1. **Customized Chatbots**: Tech companies are expected to focus on developing user-friendly platforms that allow individuals to create customized chatbots tailored to specific needs, without requiring coding skills. This shift aims to make generative AI more accessible for everyday users.\n",
       "\n",
       "2. **Generative AI’s Second Wave in Video**: Following the success of image generation AI, the next frontier is in creating text-to-video technologies. Startups are rapidly improving video generation tools, leading to their potential use in major film productions and raising concerns about the implications for actors and the film industry.\n",
       "\n",
       "3. **AI-generated Election Disinformation**: With elections looming in 2024, AI-generated disinformation is projected to become a significant issue, with examples from recent elections already showcasing the potential for misleading content. The ease of creating deepfakes poses a challenge for recognition of real versus fake, complicating the political landscape.\n",
       "\n",
       "4. **Robots that Multitask**: There is a growing trend toward developing more generalized robots that can perform multiple tasks using single models, as opposed to being limited by task-specific capabilities. This could lead to advancements in robotics, especially in areas like autonomous vehicles.\n",
       "\n",
       "As we move into 2024, these trends may impact both the technology landscape and societal dynamics. Each trend carries its own set of challenges and implications, especially concerning reliability, ethical considerations, and regulatory responses."
      ],
      "text/plain": [
       "<IPython.core.display.Markdown object>"
      ]
     },
     "metadata": {},
     "output_type": "display_data"
    }
   ],
   "source": [
    "display_summary(\"https://www.technologyreview.com/2024/01/04/1086046/whats-next-for-ai-in-2024/\")"
   ]
  },
  {
   "cell_type": "markdown",
   "id": "be9ba416-1b0b-4826-ad00-3bed7169a895",
   "metadata": {},
   "source": [
    "# Let's find out if we can do this in other languages!\n",
    "## this is an article in Arabic about Copper handicrafts"
   ]
  },
  {
   "cell_type": "code",
   "execution_count": 62,
   "id": "d8a8c2b3-3b1a-42fc-a34f-1ac25168ee7b",
   "metadata": {},
   "outputs": [
    {
     "data": {
      "text/markdown": [
       "# فن زخرفة النحاس - eFonoon.com\n",
       "\n",
       "موقع eFonoon.com يتخصص في فن زخرفة النحاس، مع تقديم معلومات مفصلة عن التاريخ والممارسات الفنية المرتبطة به. يتميز النحاس بجماله وخصائصه الفريدة التي تُبقيه محافظة على جودته لآلاف السنين إذا ما تم العناية به بشكل صحيح. يحتوي الموقع على دراسة تاريخية توضح مصدر النحاس المصري القديم وتجارته، بالإضافة إلى تفسير لدور النحاس في الحضارات المختلفة.\n",
       "\n",
       "## محتوى الموقع\n",
       "- **تاريخ النحاس**: معلومات عن استخدام النحاس في صنع الأدوات والديكورات عبر العصور منذ العصر الحجري حتى العصر البرونزي، مع التركيز على استخداماته في عصر المماليك في مصر.\n",
       "- **صناعة المشغولات اليدوية**: شرح شامل لعملية تصنيع المشغولات النحاسية، بدءًا من اختيار المواد وصولاً إلى الزخرفة والتشكيل.\n",
       "- **مقالات ذات صلة**: مقالات إضافية تتعلق بفنون أخرى مثل الأرابيسك والفن بالجلد الطبيعي.\n",
       "\n",
       "## أخبار وإعلانات\n",
       "- **عروض الشحن**: يقدم الموقع شحنًا مجانيًا للطلبات التي تتجاوز قيمتها 160 دولارًا لعملائه في دول الخليج.\n",
       "\n",
       "للبقاء على اطلاع بالعروض والخصومات، يمكن الاشتراك في النشرة الإخبارية للحصول على خصم 10% على أول عملية شراء."
      ],
      "text/plain": [
       "<IPython.core.display.Markdown object>"
      ]
     },
     "metadata": {},
     "output_type": "display_data"
    }
   ],
   "source": [
    "\n",
    "display_summary(\"https://efonoon.com/blogs/efonoon-blog/%D9%81%D9%86-%D8%B2%D8%AE%D8%B1%D9%81%D8%A9-%D8%A7%D9%84%D9%86%D8%AD%D8%A7%D8%B3\")"
   ]
  },
  {
   "cell_type": "markdown",
   "id": "8fa67e57-58d4-4f4f-8d6c-dc3a7afee311",
   "metadata": {},
   "source": [
    "\n",
    "---\n"
   ]
  },
  {
   "cell_type": "markdown",
   "id": "686670bb-d4f1-4f7e-aa6e-45049f07ecd5",
   "metadata": {},
   "source": [
    "---\n"
   ]
  },
  {
   "cell_type": "markdown",
   "id": "fef0814f-0768-49cc-b251-5ffab7b5662a",
   "metadata": {},
   "source": [
    "## Conclusion\n",
    "\n",
    "Throughout this notebook, we've explored how the OpenAI API can be leveraged to build practical applications, such as text summarization. The princples introduced also applies to other AI providers like Meta or Anthropic. They also apply to AI systems that use different modalities such as text to image generators or sppech to text, etc. \n",
    "\n",
    "The business applications of this text summariser are many. For example,  it summarizing news articles, generating concise overviews for resumes, summarise scientific articles, or crafting subject lines for emails.\n",
    "\n",
    "However, powerful products can be built when you look at this approach from a big picture point of view. For example, you could use multiple summaries of scientific articles in the last year to produce a grand  summary of where a particular field is heading. \n",
    "\n",
    "\n",
    "\n",
    "### Business Implications\n",
    "AI products built using OpenAI's API have the potential to improve businesses by driving innovation and improving operations. For instance:\n",
    "\n",
    "- **Enhanced Productivity:** Automating repetitive and time-consuming tasks allows teams to focus on more strategic initiatives. This saves a lot of time and person-hours and transfers to higher profitability.\n",
    "- \n",
    "- **Scalability:** AI-driven solutions enable businesses to handle large-scale operations efficiently, such as processing vast amounts of data or serving numerous customers simultaneously. Services like OpenAI's api are built to handle very large volume of requests/traffic. There's a case to be made, however, whether this is wise to do for safety critical systems (say a medical notes summariser deployed in a hospital, what happens if OpenAI's servers are down?)\n",
    "\n",
    "- **Personalisation:** If we're building a product for end users, this will add a personal (human?) touch to individual users' experiences. \n",
    "\n"
   ]
  },
  {
   "cell_type": "markdown",
   "id": "0c8abf66-9288-44b1-97f5-519042323fcf",
   "metadata": {},
   "source": [
    "\n",
    "### Future Applications\n",
    "The applications of OpenAI's API are not limited to specific use cases but extend to a broad range of domains and industries. For example, AI can improve  healthcare outcomes by assisting in medical diagnosis, training medical students on interviewing patients, or summarising medical research papers. In education, genAI llms could be used a tutors specialised in specific fields. \n",
    "Business that leverag AI tech, will be able to develop and test mvps from ideas quickly and iterate, all at a minimal cost. \n",
    "\n",
    "\n",
    "Moreover, AI systems can also act as virtual assistants or interactive agents in customer service, providing meaningful user interactions. These technologies promise to bring a new level of convenience to various aspects of daily life and work.\n",
    "\n",
    "### Ethics and Regulations\n",
    "As AI becomes more pervasive, it is critical to address ethical considerations and regulatory compliance. Ensuring transparency, fairness, and accountability in AI systems is essential to building trust among users and stakeholders. Bias mitigation, data privacy, and secure deployment are challenges that require continuous attention. Furthermore, these guardrails are more important in critial domains such as healthcare or finance. An AI system misdiagnosing patients' cancers due to gender bias can lead to catastrophic outcomes for that patient. Such precautions, however, may come at the cost of performance, development time, and finacial costs. However, they are vital to consider before deploying any AI powered app to the market. \n",
    "\n",
    "\n",
    "\n",
    "\n",
    "\n",
    "\n"
   ]
  },
  {
   "cell_type": "markdown",
   "id": "022e82d8-2af9-499e-9cd6-1a146c0953d5",
   "metadata": {},
   "source": [
    "## References\n",
    "\n",
    "Here are some reliable and beginner-friendly resources to learn more about OpenAI API and related topics:\n",
    "\n",
    "1. **OpenAI API Documentation**  \n",
    "   - Official documentation for the OpenAI API, including examples and best practices.  \n",
    "   - [https://platform.openai.com/docs/](https://platform.openai.com/docs/)\n",
    "\n",
    "2. **OpenAI API Quickstart Tutorial**  \n",
    "   - A step-by-step guide to getting started with the OpenAI API.  \n",
    "   - [https://github.com/openai/openai-quickstart-python](https://github.com/openai/openai-quickstart-python)\n",
    "\n",
    "\n",
    "\n"
   ]
  },
  {
   "cell_type": "code",
   "execution_count": null,
   "id": "8d9bc436-134a-476b-90a9-fb16bcbb8829",
   "metadata": {},
   "outputs": [],
   "source": []
  }
 ],
 "metadata": {
  "kernelspec": {
   "display_name": "Python 3 (ipykernel)",
   "language": "python",
   "name": "python3"
  },
  "language_info": {
   "codemirror_mode": {
    "name": "ipython",
    "version": 3
   },
   "file_extension": ".py",
   "mimetype": "text/x-python",
   "name": "python",
   "nbconvert_exporter": "python",
   "pygments_lexer": "ipython3",
   "version": "3.11.11"
  }
 },
 "nbformat": 4,
 "nbformat_minor": 5
}
